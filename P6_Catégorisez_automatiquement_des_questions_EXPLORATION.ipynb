{
  "nbformat": 4,
  "nbformat_minor": 0,
  "metadata": {
    "colab": {
      "name": "P6_Catégorisez_automatiquement_des_questions_EXPLORATION.ipynb",
      "provenance": [],
      "toc_visible": true
    },
    "kernelspec": {
      "display_name": "Python 3",
      "name": "python3"
    }
  },
  "cells": [
    {
      "cell_type": "code",
      "metadata": {
        "id": "Kd-TASrZfORb",
        "colab": {
          "base_uri": "https://localhost:8080/"
        },
        "outputId": "f42f4de6-24a5-4af7-b011-b776759e6b0e"
      },
      "source": [
        "#pip install num2words\r\n",
        "!pip install unidecode"
      ],
      "execution_count": null,
      "outputs": [
        {
          "output_type": "stream",
          "text": [
            "Requirement already satisfied: unidecode in /usr/local/lib/python3.7/dist-packages (1.2.0)\n"
          ],
          "name": "stdout"
        }
      ]
    },
    {
      "cell_type": "code",
      "metadata": {
        "colab": {
          "base_uri": "https://localhost:8080/"
        },
        "id": "sYdDOT47fLO7",
        "outputId": "35d611e6-79bc-485a-cd0c-4194724888b3"
      },
      "source": [
        "import os\r\n",
        "import pandas as pd\r\n",
        "import nltk\r\n",
        "nltk.download('stopwords')\r\n",
        "nltk.download('wordnet')\r\n",
        "nltk.download('averaged_perceptron_tagger')\r\n",
        "from nltk.corpus import stopwords, wordnet\r\n",
        "from bs4 import BeautifulSoup\r\n",
        "#from lxml import etree\r\n",
        "from collections import defaultdict, Counter\r\n",
        "from nltk.stem import PorterStemmer, WordNetLemmatizer\r\n",
        "from sklearn.feature_extraction.text import TfidfVectorizer, CountVectorizer\r\n",
        "from sklearn import metrics, cluster, preprocessing\r\n",
        "import matplotlib.pyplot as plt\r\n",
        "import csv\r\n",
        "import numpy as np\r\n",
        "import random\r\n",
        "import seaborn as sns\r\n",
        "%matplotlib inline\r\n",
        "from sklearn import manifold, decomposition\r\n",
        "from sklearn.preprocessing import LabelEncoder\r\n",
        "from sklearn.model_selection import train_test_split, GridSearchCV\r\n",
        "from sklearn.neighbors import KNeighborsClassifier\r\n",
        "from sklearn.ensemble \\\r\n",
        "import RandomForestClassifier, GradientBoostingClassifier, AdaBoostClassifier\r\n",
        "from sklearn.svm import LinearSVC, SVC\r\n",
        "import timeit\r\n",
        "import itertools\r\n",
        "import unidecode\r\n",
        "import pickle"
      ],
      "execution_count": null,
      "outputs": [
        {
          "output_type": "stream",
          "text": [
            "[nltk_data] Downloading package stopwords to /root/nltk_data...\n",
            "[nltk_data]   Package stopwords is already up-to-date!\n",
            "[nltk_data] Downloading package wordnet to /root/nltk_data...\n",
            "[nltk_data]   Package wordnet is already up-to-date!\n",
            "[nltk_data] Downloading package averaged_perceptron_tagger to\n",
            "[nltk_data]     /root/nltk_data...\n",
            "[nltk_data]   Package averaged_perceptron_tagger is already up-to-\n",
            "[nltk_data]       date!\n"
          ],
          "name": "stdout"
        }
      ]
    },
    {
      "cell_type": "code",
      "metadata": {
        "colab": {
          "base_uri": "https://localhost:8080/"
        },
        "id": "3xXFBWEHdpdL",
        "outputId": "0d6988d5-3fc4-40ed-a7e9-b0d97bab9881"
      },
      "source": [
        "from google.colab import drive\r\n",
        "drive.mount('/content/drive') \r\n",
        "import sys\r\n",
        "sys.path.append(\"/content/drive/My Drive/Colab Notebooks\")\r\n",
        "import os \r\n",
        "os.chdir('/content/drive/My Drive/Colab Notebooks/P6_Catégorisez automatiquement des questions')"
      ],
      "execution_count": null,
      "outputs": [
        {
          "output_type": "stream",
          "text": [
            "Drive already mounted at /content/drive; to attempt to forcibly remount, call drive.mount(\"/content/drive\", force_remount=True).\n"
          ],
          "name": "stdout"
        }
      ]
    },
    {
      "cell_type": "markdown",
      "metadata": {
        "id": "XtPqqEICJmfA"
      },
      "source": [
        "# Constantes et fonctions"
      ]
    },
    {
      "cell_type": "code",
      "metadata": {
        "id": "CE_5rYy1sLFF"
      },
      "source": [
        "TOP = 50\r\n",
        "REGEX = '[a-z0-9]+[#-]?[a-z0-9]*'\r\n",
        "\r\n",
        "def conv_html(col):\r\n",
        "    \"\"\"\r\n",
        "    Fonction de convertion de html en chaine standard\r\n",
        "    \"\"\"\r\n",
        "\r\n",
        "    html = BeautifulSoup(col, 'html.parser')\r\n",
        "    # Delete url strings\r\n",
        "    for t in html.find_all('a'):\r\n",
        "        t.replace_with('')\r\n",
        "    # Delete code blocks\r\n",
        "    for t in html.find_all('pre'):\r\n",
        "        t.replace_with('')\r\n",
        "    \r\n",
        "    return html.get_text(' ', strip=True)\r\n",
        "\r\n",
        "def clean_field(col, tknzr, sw, lmtzr, stmr):\r\n",
        "    \"\"\"\r\n",
        "    Fonction de tokenisation du contenu dont regex \\w+, \r\n",
        "    suppression des stopwords, lemmatisation et racinisation\r\n",
        "    \"\"\"\r\n",
        "\r\n",
        "    temp = tknzr.tokenize(unidecode.unidecode(col).lower())\r\n",
        "    return ' '.join(stmr.stem(lmtzr.lemmatize(w, get_wordnet_pos(w))) \\\r\n",
        "                    for w in temp if w not in sw and not w.isdigit())\r\n",
        "\r\n",
        "def get_wordnet_pos(word):\r\n",
        "    \"\"\"\r\n",
        "    Map POS tag to first character lemmatize() accepts\r\n",
        "    \"\"\"\r\n",
        "\r\n",
        "    tag = nltk.pos_tag([word])[0][1][0].upper()\r\n",
        "    tag_dict = {\"J\": wordnet.ADJ,\r\n",
        "                \"N\": wordnet.NOUN,\r\n",
        "                \"V\": wordnet.VERB,\r\n",
        "                \"R\": wordnet.ADV}\r\n",
        "\r\n",
        "    return tag_dict.get(tag, wordnet.NOUN)\r\n",
        "\r\n",
        "def recap_cols(df, cols):\r\n",
        "    \"\"\"\r\n",
        "    Fonction de dénombrement du contenu des listes des colonnes (cols) de df\r\n",
        "    \"\"\"\r\n",
        "\r\n",
        "    print('='*50, '\\nDénombrenent des mots')\r\n",
        "    \r\n",
        "    for col in cols:\r\n",
        "        #liste = list(itertools.chain.from_iterable(df[col].values))\r\n",
        "        freq[col] = Counter(' '.join(df[col].values).split()).most_common()\r\n",
        "        print('\\t{:6s} : {:>7d} dont {:>6d} distincts'.\\\r\n",
        "                format(col, sum(dict(freq[col]).values()), len(freq[col])))\r\n",
        "    print('='*50)\r\n",
        "        \r\n",
        "    return freq\r\n",
        "\r\n",
        "def tag_question(title, body, lbl_t, lbl_b, mod):\r\n",
        "    \"\"\"\r\n",
        "    Prediction function of stackexchange tags from a query passed as parameter\r\n",
        "    \"\"\"\r\n",
        "\r\n",
        "    title = clean_field(title)\r\n",
        "    body = clean_field(body)\r\n",
        "\r\n",
        "    tfidf_t = lbl_t.transform(title)\r\n",
        "    tfidf_b = lbl_t.transform(title)\r\n",
        "\r\n",
        "    X_train = tfidf_t * 1/3 + tfidf_b * 2/3\r\n",
        "\r\n",
        "    return mod.predict(std_scale.transform(X_train))"
      ],
      "execution_count": null,
      "outputs": []
    },
    {
      "cell_type": "markdown",
      "metadata": {
        "id": "1bt_3CT4ZW8O"
      },
      "source": [
        "# Chargement"
      ]
    },
    {
      "cell_type": "code",
      "metadata": {
        "colab": {
          "base_uri": "https://localhost:8080/",
          "height": 493
        },
        "id": "PsNdhme0fm5V",
        "outputId": "baf3aee4-c23d-4d2f-8292-daa4b756550d"
      },
      "source": [
        "freq = defaultdict()\r\n",
        "\r\n",
        "train = pd.read_csv(\"db_StackOverflow.csv\", header=0, encoding='utf-8', \\\r\n",
        "                    delimiter=',', quotechar='\"', index_col=0, )\r\n",
        "train.rename_axis(None, inplace=True)\r\n",
        "train = train.apply(lambda x: x.astype(str).str.lower())\r\n",
        "cols = train.columns\r\n",
        "\r\n",
        "print(train.info())\r\n",
        "\r\n",
        "freq = recap_cols(train, cols) \r\n",
        "\r\n",
        "train.head()"
      ],
      "execution_count": null,
      "outputs": [
        {
          "output_type": "stream",
          "text": [
            "<class 'pandas.core.frame.DataFrame'>\n",
            "Int64Index: 50000 entries, 169828 to 1669645\n",
            "Data columns (total 3 columns):\n",
            " #   Column  Non-Null Count  Dtype \n",
            "---  ------  --------------  ----- \n",
            " 0   Title   50000 non-null  object\n",
            " 1   Body    50000 non-null  object\n",
            " 2   Tags    50000 non-null  object\n",
            "dtypes: object(3)\n",
            "memory usage: 1.5+ MB\n",
            "None\n",
            "================================================== \n",
            "Dénombrenent des mots\n",
            "\tTitle  :  428719 dont  37241 distincts\n",
            "\tBody   : 6055132 dont 561841 distincts\n",
            "\tTags   :   50000 dont  37101 distincts\n",
            "==================================================\n"
          ],
          "name": "stdout"
        },
        {
          "output_type": "execute_result",
          "data": {
            "text/html": [
              "<div>\n",
              "<style scoped>\n",
              "    .dataframe tbody tr th:only-of-type {\n",
              "        vertical-align: middle;\n",
              "    }\n",
              "\n",
              "    .dataframe tbody tr th {\n",
              "        vertical-align: top;\n",
              "    }\n",
              "\n",
              "    .dataframe thead th {\n",
              "        text-align: right;\n",
              "    }\n",
              "</style>\n",
              "<table border=\"1\" class=\"dataframe\">\n",
              "  <thead>\n",
              "    <tr style=\"text-align: right;\">\n",
              "      <th></th>\n",
              "      <th>Title</th>\n",
              "      <th>Body</th>\n",
              "      <th>Tags</th>\n",
              "    </tr>\n",
              "  </thead>\n",
              "  <tbody>\n",
              "    <tr>\n",
              "      <th>169828</th>\n",
              "      <td>what are the real benefits of visual studio te...</td>\n",
              "      <td>&lt;p&gt;interested if anyone has used vsts database...</td>\n",
              "      <td>&lt;sql-server&gt;&lt;database-tools&gt;</td>\n",
              "    </tr>\n",
              "    <tr>\n",
              "      <th>431644</th>\n",
              "      <td>how can i hook into the current formsauthentic...</td>\n",
              "      <td>&lt;p&gt;i've got an httpmodule in my application th...</td>\n",
              "      <td>&lt;asp.net&gt;&lt;events&gt;&lt;forms-authentication&gt;&lt;httpmo...</td>\n",
              "    </tr>\n",
              "    <tr>\n",
              "      <th>1450121</th>\n",
              "      <td>is there any sync algorithm/reference availabl...</td>\n",
              "      <td>&lt;p&gt;i'm planning to write a program to sync a f...</td>\n",
              "      <td>&lt;algorithm&gt;&lt;synchronization&gt;</td>\n",
              "    </tr>\n",
              "    <tr>\n",
              "      <th>426609</th>\n",
              "      <td>how to assign profile values?</td>\n",
              "      <td>&lt;p&gt;i don't know what i am missing, but i added...</td>\n",
              "      <td>&lt;asp.net&gt;&lt;asp.net-mvc&gt;&lt;asp.net-membership&gt;&lt;pro...</td>\n",
              "    </tr>\n",
              "    <tr>\n",
              "      <th>14646</th>\n",
              "      <td>how to add \"project description\" in fogbugz?</td>\n",
              "      <td>&lt;p&gt;when i create a new project (or even when i...</td>\n",
              "      <td>&lt;fogbugz&gt;</td>\n",
              "    </tr>\n",
              "  </tbody>\n",
              "</table>\n",
              "</div>"
            ],
            "text/plain": [
              "                                                     Title  ...                                               Tags\n",
              "169828   what are the real benefits of visual studio te...  ...                       <sql-server><database-tools>\n",
              "431644   how can i hook into the current formsauthentic...  ...  <asp.net><events><forms-authentication><httpmo...\n",
              "1450121  is there any sync algorithm/reference availabl...  ...                       <algorithm><synchronization>\n",
              "426609                       how to assign profile values?  ...  <asp.net><asp.net-mvc><asp.net-membership><pro...\n",
              "14646         how to add \"project description\" in fogbugz?  ...                                          <fogbugz>\n",
              "\n",
              "[5 rows x 3 columns]"
            ]
          },
          "metadata": {
            "tags": []
          },
          "execution_count": 43
        }
      ]
    },
    {
      "cell_type": "markdown",
      "metadata": {
        "id": "5yE51lHCta7p"
      },
      "source": [
        "# Nettoyage du dataframe"
      ]
    },
    {
      "cell_type": "code",
      "metadata": {
        "colab": {
          "base_uri": "https://localhost:8080/",
          "height": 751
        },
        "id": "X7jblBHhtNqE",
        "outputId": "53bb91d4-1d25-4658-a6ce-8853660b7ed9"
      },
      "source": [
        "# Pour étiqueter les tags\r\n",
        "lbl = LabelEncoder()\r\n",
        "\r\n",
        "# Stopwords nltk \r\n",
        "std_sw = set(nltk.corpus.stopwords.words('english')) \r\n",
        "\r\n",
        "# Extra stopwords = radicaux qui ne me semblent pas discriminants \r\n",
        "extra_sw = ('use', 'get', 'like', 'way', 'creat', 'would', 'want', 'need',\\\r\n",
        "            'know', 'could', 'x', 'xx', 'xyz', 'aa', 'xxx', 'z', 'yyyi', 'wont',\\\r\n",
        "            'aaa', 'aaaaaa', 'aabbc', 'aandb', 'aarrggbb')\r\n",
        "\r\n",
        "my_sw = std_sw.union(extra_sw)\r\n",
        "\r\n",
        "tokenizer = nltk.RegexpTokenizer(REGEX)\r\n",
        "lemmatizer = WordNetLemmatizer() \r\n",
        "stemmer = PorterStemmer()\r\n",
        "\r\n",
        "print('='*50)\r\n",
        "\r\n",
        "for col in ['Title', 'Body']:\r\n",
        "    if col == 'Body':\r\n",
        "        print('Conversion html de \"{}\" '.format(col), end='')\r\n",
        "        start_time = timeit.default_timer()\r\n",
        "\r\n",
        "        # Convertion du html en chaine standard \r\n",
        "        train[col] = train[col].apply(conv_html)\r\n",
        "\r\n",
        "        elapsed = timeit.default_timer() - start_time\r\n",
        "        print('-> OK en {:.3} sec'.format(elapsed))\r\n",
        "\r\n",
        "    print('Nettoyage/lemmatisation de \"{}\" '.format(col), end='')\r\n",
        "    start_time = timeit.default_timer()\r\n",
        "\r\n",
        "    # Tokenisation et suppression des stopwords\r\n",
        "    train[col] = train[col].apply(clean_field, tknzr=tokenizer, \\\r\n",
        "                                  sw=std_sw, lmtzr=lemmatizer, stmr=stemmer)\r\n",
        "\r\n",
        "    # Suppression des radicaux qui ne me semblent pas discriminants (ex. use, ...)\r\n",
        "    train[col] = train[col].apply(lambda x: ' '.join([w for w in x.split() \\\r\n",
        "                                                      if w not in extra_sw]))\r\n",
        "\r\n",
        "    elapsed = timeit.default_timer() - start_time\r\n",
        "    print('-> OK en {:.3} sec'.format(elapsed))\r\n",
        "\r\n",
        "print('Traitement des tags ', end='')\r\n",
        "start_time = timeit.default_timer()\r\n",
        "\r\n",
        "# Epurage et tri des tags\r\n",
        "train['Tags'] = train['Tags'].apply(lambda x: ' '.join(sorted(x[1:-1].split('><'))))\r\n",
        "\r\n",
        "# Ajout du nombre de Tags \r\n",
        "train['nTags'] = train['Tags'].apply(lambda x: len(x.split()))\r\n",
        "\r\n",
        "# Etiquetage des tags\r\n",
        "train['Tags_lbl'] = lbl.fit_transform(train.Tags)\r\n",
        "\r\n",
        "elapsed = timeit.default_timer() - start_time\r\n",
        "print('-> OK en {:.3} sec'.format(elapsed))\r\n",
        "\r\n",
        "freq = recap_cols(train, cols)\r\n",
        "\r\n",
        "print('{} groupes de tags distincts'.format(len(train.Tags.value_counts())))\r\n",
        "print('='*50)\r\n",
        "\r\n",
        "train.head()"
      ],
      "execution_count": null,
      "outputs": [
        {
          "output_type": "stream",
          "text": [
            "==================================================\n",
            "Nettoyage/lemmatisation de \"Title\" -> OK en 51.3 sec\n",
            "Conversion html de \"Body\" -> OK en 19.7 sec\n",
            "Nettoyage/lemmatisation de \"Body\" "
          ],
          "name": "stdout"
        },
        {
          "output_type": "stream",
          "text": [
            "/usr/local/lib/python3.7/dist-packages/unidecode/__init__.py:131: RuntimeWarning: Surrogate character '\\ud800' will be ignored. You might be using a narrow Python build.\n",
            "  repl = _get_repl_str(char)\n",
            "/usr/local/lib/python3.7/dist-packages/unidecode/__init__.py:131: RuntimeWarning: Surrogate character '\\udf30' will be ignored. You might be using a narrow Python build.\n",
            "  repl = _get_repl_str(char)\n",
            "/usr/local/lib/python3.7/dist-packages/unidecode/__init__.py:131: RuntimeWarning: Surrogate character '\\udf3d' will be ignored. You might be using a narrow Python build.\n",
            "  repl = _get_repl_str(char)\n",
            "/usr/local/lib/python3.7/dist-packages/unidecode/__init__.py:131: RuntimeWarning: Surrogate character '\\udf33' will be ignored. You might be using a narrow Python build.\n",
            "  repl = _get_repl_str(char)\n",
            "/usr/local/lib/python3.7/dist-packages/unidecode/__init__.py:131: RuntimeWarning: Surrogate character '\\udf3f' will be ignored. You might be using a narrow Python build.\n",
            "  repl = _get_repl_str(char)\n",
            "/usr/local/lib/python3.7/dist-packages/unidecode/__init__.py:131: RuntimeWarning: Surrogate character '\\udf42' will be ignored. You might be using a narrow Python build.\n",
            "  repl = _get_repl_str(char)\n"
          ],
          "name": "stderr"
        },
        {
          "output_type": "stream",
          "text": [
            "-> OK en 4.01e+02 sec\n",
            "Traitement des tags -> OK en 0.142 sec\n",
            "================================================== \n",
            "Dénombrenent des mots\n",
            "\tTitle  :  263819 dont  15380 distincts\n",
            "\tBody   : 2149994 dont  58133 distincts\n",
            "\tTags   :  145824 dont  10494 distincts\n",
            "==================================================\n",
            "36891 groupes de tags distincts\n",
            "==================================================\n"
          ],
          "name": "stdout"
        },
        {
          "output_type": "execute_result",
          "data": {
            "text/html": [
              "<div>\n",
              "<style scoped>\n",
              "    .dataframe tbody tr th:only-of-type {\n",
              "        vertical-align: middle;\n",
              "    }\n",
              "\n",
              "    .dataframe tbody tr th {\n",
              "        vertical-align: top;\n",
              "    }\n",
              "\n",
              "    .dataframe thead th {\n",
              "        text-align: right;\n",
              "    }\n",
              "</style>\n",
              "<table border=\"1\" class=\"dataframe\">\n",
              "  <thead>\n",
              "    <tr style=\"text-align: right;\">\n",
              "      <th></th>\n",
              "      <th>Title</th>\n",
              "      <th>Body</th>\n",
              "      <th>Tags</th>\n",
              "      <th>nTags</th>\n",
              "      <th>Tags_lbl</th>\n",
              "    </tr>\n",
              "  </thead>\n",
              "  <tbody>\n",
              "    <tr>\n",
              "      <th>169828</th>\n",
              "      <td>real benefit visual studio team system databas...</td>\n",
              "      <td>interest anyon vst databas edit extens featur ...</td>\n",
              "      <td>database-tools sql-server</td>\n",
              "      <td>2</td>\n",
              "      <td>22152</td>\n",
              "    </tr>\n",
              "    <tr>\n",
              "      <th>431644</th>\n",
              "      <td>hook current formsauthenticationmodul medium t...</td>\n",
              "      <td>httpmodul applic hook formsauthenticationmodul...</td>\n",
              "      <td>asp.net events forms-authentication httpmodule...</td>\n",
              "      <td>5</td>\n",
              "      <td>8112</td>\n",
              "    </tr>\n",
              "    <tr>\n",
              "      <th>1450121</th>\n",
              "      <td>sync algorithm refer avail sync directori</td>\n",
              "      <td>plan write program sync folder real time acros...</td>\n",
              "      <td>algorithm synchronization</td>\n",
              "      <td>2</td>\n",
              "      <td>5236</td>\n",
              "    </tr>\n",
              "    <tr>\n",
              "      <th>426609</th>\n",
              "      <td>assign profil valu</td>\n",
              "      <td>miss add profil properti web config file canno...</td>\n",
              "      <td>asp.net asp.net-membership asp.net-mvc profile</td>\n",
              "      <td>4</td>\n",
              "      <td>7373</td>\n",
              "    </tr>\n",
              "    <tr>\n",
              "      <th>14646</th>\n",
              "      <td>add project descript fogbugz</td>\n",
              "      <td>new project even edit sampl project add descri...</td>\n",
              "      <td>fogbugz</td>\n",
              "      <td>1</td>\n",
              "      <td>26437</td>\n",
              "    </tr>\n",
              "  </tbody>\n",
              "</table>\n",
              "</div>"
            ],
            "text/plain": [
              "                                                     Title  ... Tags_lbl\n",
              "169828   real benefit visual studio team system databas...  ...    22152\n",
              "431644   hook current formsauthenticationmodul medium t...  ...     8112\n",
              "1450121          sync algorithm refer avail sync directori  ...     5236\n",
              "426609                                  assign profil valu  ...     7373\n",
              "14646                         add project descript fogbugz  ...    26437\n",
              "\n",
              "[5 rows x 5 columns]"
            ]
          },
          "metadata": {
            "tags": []
          },
          "execution_count": 44
        }
      ]
    },
    {
      "cell_type": "code",
      "metadata": {
        "id": "5Pg78_ag6UWc",
        "colab": {
          "base_uri": "https://localhost:8080/",
          "height": 241
        },
        "outputId": "4a2c9234-8f4e-474e-9659-b0ce0bced174"
      },
      "source": [
        "train[train.Title.str.contains('windows-')]"
      ],
      "execution_count": null,
      "outputs": [
        {
          "output_type": "execute_result",
          "data": {
            "text/html": [
              "<div>\n",
              "<style scoped>\n",
              "    .dataframe tbody tr th:only-of-type {\n",
              "        vertical-align: middle;\n",
              "    }\n",
              "\n",
              "    .dataframe tbody tr th {\n",
              "        vertical-align: top;\n",
              "    }\n",
              "\n",
              "    .dataframe thead th {\n",
              "        text-align: right;\n",
              "    }\n",
              "</style>\n",
              "<table border=\"1\" class=\"dataframe\">\n",
              "  <thead>\n",
              "    <tr style=\"text-align: right;\">\n",
              "      <th></th>\n",
              "      <th>Title</th>\n",
              "      <th>Body</th>\n",
              "      <th>Tags</th>\n",
              "      <th>nTags</th>\n",
              "      <th>Tags_lbl</th>\n",
              "    </tr>\n",
              "  </thead>\n",
              "  <tbody>\n",
              "    <tr>\n",
              "      <th>24927061</th>\n",
              "      <td>convert utf-8 ansi windows-1252</td>\n",
              "      <td>tri save string hebrew file file ansi encod at...</td>\n",
              "      <td>encoding iconv php utf-8 windows-1252</td>\n",
              "      <td>5</td>\n",
              "      <td>24979</td>\n",
              "    </tr>\n",
              "    <tr>\n",
              "      <th>41448586</th>\n",
              "      <td>decod url-encod windows-1251 cp1251 string jav...</td>\n",
              "      <td>face problem unfortun found correct solut deco...</td>\n",
              "      <td>cp1251 decode decoder javascript windows-1251</td>\n",
              "      <td>5</td>\n",
              "      <td>20539</td>\n",
              "    </tr>\n",
              "    <tr>\n",
              "      <th>1669995</th>\n",
              "      <td>windows-1251 file insid utf-8 site</td>\n",
              "      <td>hello everyon master web delevop piec php scri...</td>\n",
              "      <td>encoding php utf-8</td>\n",
              "      <td>3</td>\n",
              "      <td>25004</td>\n",
              "    </tr>\n",
              "    <tr>\n",
              "      <th>8883512</th>\n",
              "      <td>pthread condit variabl v win32 event linux v w...</td>\n",
              "      <td>perform evalu window ce linux arm imx27 board ...</td>\n",
              "      <td>events linux pthreads windows windows-ce</td>\n",
              "      <td>5</td>\n",
              "      <td>25418</td>\n",
              "    </tr>\n",
              "  </tbody>\n",
              "</table>\n",
              "</div>"
            ],
            "text/plain": [
              "                                                      Title  ... Tags_lbl\n",
              "24927061                    convert utf-8 ansi windows-1252  ...    24979\n",
              "41448586  decod url-encod windows-1251 cp1251 string jav...  ...    20539\n",
              "1669995                  windows-1251 file insid utf-8 site  ...    25004\n",
              "8883512   pthread condit variabl v win32 event linux v w...  ...    25418\n",
              "\n",
              "[4 rows x 5 columns]"
            ]
          },
          "metadata": {
            "tags": []
          },
          "execution_count": 45
        }
      ]
    },
    {
      "cell_type": "markdown",
      "metadata": {
        "id": "_1vf8xkggmkJ"
      },
      "source": [
        "# Réduction"
      ]
    },
    {
      "cell_type": "markdown",
      "metadata": {
        "id": "D8l_Oi6Mgs-_"
      },
      "source": [
        "## Nombre de mots dans les Title"
      ]
    },
    {
      "cell_type": "code",
      "metadata": {
        "colab": {
          "base_uri": "https://localhost:8080/",
          "height": 297
        },
        "id": "jVBa7cYSfTse",
        "outputId": "200cabb4-c078-42bd-c822-8834eb310c2f"
      },
      "source": [
        "temp = pd.DataFrame()\r\n",
        "temp['len'] = train.Title.apply(lambda x: len(x.split()))\r\n",
        "temp.describe()"
      ],
      "execution_count": null,
      "outputs": [
        {
          "output_type": "execute_result",
          "data": {
            "text/html": [
              "<div>\n",
              "<style scoped>\n",
              "    .dataframe tbody tr th:only-of-type {\n",
              "        vertical-align: middle;\n",
              "    }\n",
              "\n",
              "    .dataframe tbody tr th {\n",
              "        vertical-align: top;\n",
              "    }\n",
              "\n",
              "    .dataframe thead th {\n",
              "        text-align: right;\n",
              "    }\n",
              "</style>\n",
              "<table border=\"1\" class=\"dataframe\">\n",
              "  <thead>\n",
              "    <tr style=\"text-align: right;\">\n",
              "      <th></th>\n",
              "      <th>len</th>\n",
              "    </tr>\n",
              "  </thead>\n",
              "  <tbody>\n",
              "    <tr>\n",
              "      <th>count</th>\n",
              "      <td>50000.000000</td>\n",
              "    </tr>\n",
              "    <tr>\n",
              "      <th>mean</th>\n",
              "      <td>5.166820</td>\n",
              "    </tr>\n",
              "    <tr>\n",
              "      <th>std</th>\n",
              "      <td>1.880336</td>\n",
              "    </tr>\n",
              "    <tr>\n",
              "      <th>min</th>\n",
              "      <td>0.000000</td>\n",
              "    </tr>\n",
              "    <tr>\n",
              "      <th>25%</th>\n",
              "      <td>4.000000</td>\n",
              "    </tr>\n",
              "    <tr>\n",
              "      <th>50%</th>\n",
              "      <td>5.000000</td>\n",
              "    </tr>\n",
              "    <tr>\n",
              "      <th>75%</th>\n",
              "      <td>6.000000</td>\n",
              "    </tr>\n",
              "    <tr>\n",
              "      <th>max</th>\n",
              "      <td>17.000000</td>\n",
              "    </tr>\n",
              "  </tbody>\n",
              "</table>\n",
              "</div>"
            ],
            "text/plain": [
              "                len\n",
              "count  50000.000000\n",
              "mean       5.166820\n",
              "std        1.880336\n",
              "min        0.000000\n",
              "25%        4.000000\n",
              "50%        5.000000\n",
              "75%        6.000000\n",
              "max       17.000000"
            ]
          },
          "metadata": {
            "tags": []
          },
          "execution_count": 8
        }
      ]
    },
    {
      "cell_type": "code",
      "metadata": {
        "colab": {
          "base_uri": "https://localhost:8080/",
          "height": 204
        },
        "id": "xheKCXcIleS_",
        "outputId": "53198812-d208-45b0-977a-38f4bd28cb00"
      },
      "source": [
        "train[train.Title == '']"
      ],
      "execution_count": null,
      "outputs": [
        {
          "output_type": "execute_result",
          "data": {
            "text/html": [
              "<div>\n",
              "<style scoped>\n",
              "    .dataframe tbody tr th:only-of-type {\n",
              "        vertical-align: middle;\n",
              "    }\n",
              "\n",
              "    .dataframe tbody tr th {\n",
              "        vertical-align: top;\n",
              "    }\n",
              "\n",
              "    .dataframe thead th {\n",
              "        text-align: right;\n",
              "    }\n",
              "</style>\n",
              "<table border=\"1\" class=\"dataframe\">\n",
              "  <thead>\n",
              "    <tr style=\"text-align: right;\">\n",
              "      <th></th>\n",
              "      <th>Title</th>\n",
              "      <th>Body</th>\n",
              "      <th>Tags</th>\n",
              "      <th>nTags</th>\n",
              "      <th>Tags_lbl</th>\n",
              "    </tr>\n",
              "  </thead>\n",
              "  <tbody>\n",
              "    <tr>\n",
              "      <th>470139</th>\n",
              "      <td></td>\n",
              "      <td>python evalu express mani ever put print answe...</td>\n",
              "      <td>evaluation operator-precedence python</td>\n",
              "      <td>3</td>\n",
              "      <td>25350</td>\n",
              "    </tr>\n",
              "    <tr>\n",
              "      <th>1588541</th>\n",
              "      <td></td>\n",
              "      <td>list token sure cant part variabl name might</td>\n",
              "      <td>c++ keyword</td>\n",
              "      <td>2</td>\n",
              "      <td>16612</td>\n",
              "    </tr>\n",
              "    <tr>\n",
              "      <th>2874816</th>\n",
              "      <td></td>\n",
              "      <td>found look similar stackoverflow</td>\n",
              "      <td>javascript</td>\n",
              "      <td>1</td>\n",
              "      <td>30977</td>\n",
              "    </tr>\n",
              "    <tr>\n",
              "      <th>889373</th>\n",
              "      <td></td>\n",
              "      <td>understand last snippet code post item array c...</td>\n",
              "      <td>php syntax ternary-operator</td>\n",
              "      <td>3</td>\n",
              "      <td>34584</td>\n",
              "    </tr>\n",
              "    <tr>\n",
              "      <th>3570687</th>\n",
              "      <td></td>\n",
              "      <td>see do someth expand even legal mean</td>\n",
              "      <td>c</td>\n",
              "      <td>1</td>\n",
              "      <td>11904</td>\n",
              "    </tr>\n",
              "  </tbody>\n",
              "</table>\n",
              "</div>"
            ],
            "text/plain": [
              "        Title  ... Tags_lbl\n",
              "470139         ...    25350\n",
              "1588541        ...    16612\n",
              "2874816        ...    30977\n",
              "889373         ...    34584\n",
              "3570687        ...    11904\n",
              "\n",
              "[5 rows x 5 columns]"
            ]
          },
          "metadata": {
            "tags": []
          },
          "execution_count": 9
        }
      ]
    },
    {
      "cell_type": "markdown",
      "metadata": {
        "id": "INdXnqRThKz8"
      },
      "source": [
        "## Nombre de mots dans les Body"
      ]
    },
    {
      "cell_type": "code",
      "metadata": {
        "colab": {
          "base_uri": "https://localhost:8080/",
          "height": 297
        },
        "id": "NolQXM5fhRO0",
        "outputId": "92586330-8128-41d3-8094-df637d8290aa"
      },
      "source": [
        "temp = pd.DataFrame()\r\n",
        "temp['len'] = train.Body.apply(lambda x: len(x.split()))\r\n",
        "temp.describe()"
      ],
      "execution_count": null,
      "outputs": [
        {
          "output_type": "execute_result",
          "data": {
            "text/html": [
              "<div>\n",
              "<style scoped>\n",
              "    .dataframe tbody tr th:only-of-type {\n",
              "        vertical-align: middle;\n",
              "    }\n",
              "\n",
              "    .dataframe tbody tr th {\n",
              "        vertical-align: top;\n",
              "    }\n",
              "\n",
              "    .dataframe thead th {\n",
              "        text-align: right;\n",
              "    }\n",
              "</style>\n",
              "<table border=\"1\" class=\"dataframe\">\n",
              "  <thead>\n",
              "    <tr style=\"text-align: right;\">\n",
              "      <th></th>\n",
              "      <th>len</th>\n",
              "    </tr>\n",
              "  </thead>\n",
              "  <tbody>\n",
              "    <tr>\n",
              "      <th>count</th>\n",
              "      <td>50000.000000</td>\n",
              "    </tr>\n",
              "    <tr>\n",
              "      <th>mean</th>\n",
              "      <td>42.422680</td>\n",
              "    </tr>\n",
              "    <tr>\n",
              "      <th>std</th>\n",
              "      <td>36.367686</td>\n",
              "    </tr>\n",
              "    <tr>\n",
              "      <th>min</th>\n",
              "      <td>0.000000</td>\n",
              "    </tr>\n",
              "    <tr>\n",
              "      <th>25%</th>\n",
              "      <td>20.000000</td>\n",
              "    </tr>\n",
              "    <tr>\n",
              "      <th>50%</th>\n",
              "      <td>33.000000</td>\n",
              "    </tr>\n",
              "    <tr>\n",
              "      <th>75%</th>\n",
              "      <td>54.000000</td>\n",
              "    </tr>\n",
              "    <tr>\n",
              "      <th>max</th>\n",
              "      <td>1186.000000</td>\n",
              "    </tr>\n",
              "  </tbody>\n",
              "</table>\n",
              "</div>"
            ],
            "text/plain": [
              "                len\n",
              "count  50000.000000\n",
              "mean      42.422680\n",
              "std       36.367686\n",
              "min        0.000000\n",
              "25%       20.000000\n",
              "50%       33.000000\n",
              "75%       54.000000\n",
              "max     1186.000000"
            ]
          },
          "metadata": {
            "tags": []
          },
          "execution_count": 10
        }
      ]
    },
    {
      "cell_type": "code",
      "metadata": {
        "id": "2E0t1JahEAA8"
      },
      "source": [
        "backup = train.copy()"
      ],
      "execution_count": null,
      "outputs": []
    },
    {
      "cell_type": "markdown",
      "metadata": {
        "id": "Z3mOSHtfW9Dc"
      },
      "source": [
        "# Explorations"
      ]
    },
    {
      "cell_type": "markdown",
      "metadata": {
        "id": "FSDaqNRrYJl_"
      },
      "source": [
        "## Jeu de données"
      ]
    },
    {
      "cell_type": "code",
      "metadata": {
        "colab": {
          "base_uri": "https://localhost:8080/",
          "height": 540
        },
        "id": "CHm5r6f-a8iw",
        "outputId": "2c7a9d93-717c-44bd-a934-7eeb3a4e1206"
      },
      "source": [
        "cpt = 0 \r\n",
        "fig = plt.figure(figsize=(25, 10))\r\n",
        "\r\n",
        "for col in cols[:-1]:\r\n",
        "    cpt += 1\r\n",
        "    plt.subplot(1, 3, cpt)\r\n",
        "    plt.barh([k for k, v in sorted(freq[col][:TOP], key=lambda x: x[1])], \r\n",
        "             [v for k, v in sorted(freq[col][:TOP], key=lambda x: x[1])])\r\n",
        "    plt.title('Top {} des radicaux dans {}'.format(TOP, col))\r\n",
        "\r\n",
        "temp = train.Tags.value_counts().to_frame('counts')\r\n",
        "plt.subplot(133)\r\n",
        "plt.barh(temp.sort_values(by='counts', ascending=True)[-TOP:].index, \r\n",
        "         temp.sort_values(by='counts', ascending=True)[-TOP:].counts)\r\n",
        "plt.title('Top {} dans Tags'.format(TOP))"
      ],
      "execution_count": null,
      "outputs": [
        {
          "output_type": "execute_result",
          "data": {
            "text/plain": [
              "Text(0.5, 1.0, 'Top 50 dans Tags')"
            ]
          },
          "metadata": {
            "tags": []
          },
          "execution_count": 12
        },
        {
          "output_type": "display_data",
          "data": {
            "image/png": "[encoded data removed]",
            "text/plain": [
              "<Figure size 1800x720 with 3 Axes>"
            ]
          },
          "metadata": {
            "tags": [],
            "needs_background": "light"
          }
        }
      ]
    },
    {
      "cell_type": "markdown",
      "metadata": {
        "id": "Z9dntiR-YT40"
      },
      "source": [
        "## Top Tags"
      ]
    },
    {
      "cell_type": "code",
      "metadata": {
        "colab": {
          "base_uri": "https://localhost:8080/",
          "height": 537
        },
        "id": "KwChE7cq0Q52",
        "outputId": "4ca859d3-a3d6-4d9c-f17a-fb4b13978c12"
      },
      "source": [
        "fig = plt.figure(figsize=(25, 10))\r\n",
        "plt.subplot(131)\r\n",
        "plt.barh([k for k, v in sorted(freq['Tags'][:TOP], key=lambda x: x[1])], \r\n",
        "         [v for k, v in sorted(freq['Tags'][:TOP], key=lambda x: x[1])])\r\n",
        "plt.title('Top {} des tags unitaires'.format(TOP))\r\n",
        "\r\n",
        "temp = pd.DataFrame.from_dict(dict(freq['Tags'][:TOP]), orient='index')\\\r\n",
        "                              .rename(columns={0:'counts'})\r\n",
        "plt.subplot(232)\r\n",
        "plt.title('Distribution des {} top tags unitaires'.format(TOP))\r\n",
        "sns.histplot(temp.counts, kde=True)\r\n",
        "\r\n",
        "plt.subplot(235)\r\n",
        "sns.boxplot(x=temp.counts, width=0.2)\r\n",
        "\r\n",
        "plt.subplot(233)\r\n",
        "sns.histplot(train['nTags'], kde=True)\r\n",
        "plt.title('Distribution du nombre de tags par question')"
      ],
      "execution_count": null,
      "outputs": [
        {
          "output_type": "execute_result",
          "data": {
            "text/plain": [
              "Text(0.5, 1.0, 'Distribution du nombre de tags par question')"
            ]
          },
          "metadata": {
            "tags": []
          },
          "execution_count": 13
        },
        {
          "output_type": "display_data",
          "data": {
            "image/png": "[encoded data removed]",
            "text/plain": [
              "<Figure size 1800x720 with 4 Axes>"
            ]
          },
          "metadata": {
            "tags": [],
            "needs_background": "light"
          }
        }
      ]
    },
    {
      "cell_type": "code",
      "metadata": {
        "colab": {
          "base_uri": "https://localhost:8080/",
          "height": 297
        },
        "id": "4l-3mzJEmytS",
        "outputId": "70db2847-9426-4c91-e421-e895a3464d9d"
      },
      "source": [
        "pd.DataFrame(freq['Tags']).rename(columns={0:'Tag', 1:'count'}).describe()"
      ],
      "execution_count": null,
      "outputs": [
        {
          "output_type": "execute_result",
          "data": {
            "text/html": [
              "<div>\n",
              "<style scoped>\n",
              "    .dataframe tbody tr th:only-of-type {\n",
              "        vertical-align: middle;\n",
              "    }\n",
              "\n",
              "    .dataframe tbody tr th {\n",
              "        vertical-align: top;\n",
              "    }\n",
              "\n",
              "    .dataframe thead th {\n",
              "        text-align: right;\n",
              "    }\n",
              "</style>\n",
              "<table border=\"1\" class=\"dataframe\">\n",
              "  <thead>\n",
              "    <tr style=\"text-align: right;\">\n",
              "      <th></th>\n",
              "      <th>count</th>\n",
              "    </tr>\n",
              "  </thead>\n",
              "  <tbody>\n",
              "    <tr>\n",
              "      <th>count</th>\n",
              "      <td>10494.000000</td>\n",
              "    </tr>\n",
              "    <tr>\n",
              "      <th>mean</th>\n",
              "      <td>13.895941</td>\n",
              "    </tr>\n",
              "    <tr>\n",
              "      <th>std</th>\n",
              "      <td>121.763098</td>\n",
              "    </tr>\n",
              "    <tr>\n",
              "      <th>min</th>\n",
              "      <td>1.000000</td>\n",
              "    </tr>\n",
              "    <tr>\n",
              "      <th>25%</th>\n",
              "      <td>1.000000</td>\n",
              "    </tr>\n",
              "    <tr>\n",
              "      <th>50%</th>\n",
              "      <td>2.000000</td>\n",
              "    </tr>\n",
              "    <tr>\n",
              "      <th>75%</th>\n",
              "      <td>5.000000</td>\n",
              "    </tr>\n",
              "    <tr>\n",
              "      <th>max</th>\n",
              "      <td>7544.000000</td>\n",
              "    </tr>\n",
              "  </tbody>\n",
              "</table>\n",
              "</div>"
            ],
            "text/plain": [
              "              count\n",
              "count  10494.000000\n",
              "mean      13.895941\n",
              "std      121.763098\n",
              "min        1.000000\n",
              "25%        1.000000\n",
              "50%        2.000000\n",
              "75%        5.000000\n",
              "max     7544.000000"
            ]
          },
          "metadata": {
            "tags": []
          },
          "execution_count": 14
        }
      ]
    },
    {
      "cell_type": "code",
      "metadata": {
        "colab": {
          "base_uri": "https://localhost:8080/",
          "height": 297
        },
        "id": "1KSrQMgb4-pm",
        "outputId": "89072fee-e611-4df1-e005-a612a89d0849"
      },
      "source": [
        "train['Tags_lbl'].value_counts().to_frame().describe()"
      ],
      "execution_count": null,
      "outputs": [
        {
          "output_type": "execute_result",
          "data": {
            "text/html": [
              "<div>\n",
              "<style scoped>\n",
              "    .dataframe tbody tr th:only-of-type {\n",
              "        vertical-align: middle;\n",
              "    }\n",
              "\n",
              "    .dataframe tbody tr th {\n",
              "        vertical-align: top;\n",
              "    }\n",
              "\n",
              "    .dataframe thead th {\n",
              "        text-align: right;\n",
              "    }\n",
              "</style>\n",
              "<table border=\"1\" class=\"dataframe\">\n",
              "  <thead>\n",
              "    <tr style=\"text-align: right;\">\n",
              "      <th></th>\n",
              "      <th>Tags_lbl</th>\n",
              "    </tr>\n",
              "  </thead>\n",
              "  <tbody>\n",
              "    <tr>\n",
              "      <th>count</th>\n",
              "      <td>36891.000000</td>\n",
              "    </tr>\n",
              "    <tr>\n",
              "      <th>mean</th>\n",
              "      <td>1.355344</td>\n",
              "    </tr>\n",
              "    <tr>\n",
              "      <th>std</th>\n",
              "      <td>4.182327</td>\n",
              "    </tr>\n",
              "    <tr>\n",
              "      <th>min</th>\n",
              "      <td>1.000000</td>\n",
              "    </tr>\n",
              "    <tr>\n",
              "      <th>25%</th>\n",
              "      <td>1.000000</td>\n",
              "    </tr>\n",
              "    <tr>\n",
              "      <th>50%</th>\n",
              "      <td>1.000000</td>\n",
              "    </tr>\n",
              "    <tr>\n",
              "      <th>75%</th>\n",
              "      <td>1.000000</td>\n",
              "    </tr>\n",
              "    <tr>\n",
              "      <th>max</th>\n",
              "      <td>320.000000</td>\n",
              "    </tr>\n",
              "  </tbody>\n",
              "</table>\n",
              "</div>"
            ],
            "text/plain": [
              "           Tags_lbl\n",
              "count  36891.000000\n",
              "mean       1.355344\n",
              "std        4.182327\n",
              "min        1.000000\n",
              "25%        1.000000\n",
              "50%        1.000000\n",
              "75%        1.000000\n",
              "max      320.000000"
            ]
          },
          "metadata": {
            "tags": []
          },
          "execution_count": 15
        }
      ]
    },
    {
      "cell_type": "markdown",
      "metadata": {
        "id": "KZkd8IhV_WdB"
      },
      "source": [
        "# Réduction du scope\r\n",
        "Pour commencer, je considère les questions avec 1 seul tag "
      ]
    },
    {
      "cell_type": "code",
      "metadata": {
        "id": "Sv-9wnRaHlY4",
        "colab": {
          "base_uri": "https://localhost:8080/",
          "height": 323
        },
        "outputId": "9f827116-0aed-4250-9102-69c2dca8a256"
      },
      "source": [
        "train_1T = train[train.nTags == 1]\r\n",
        "freq = recap_cols(train_1T, cols)\r\n",
        "print(train.shape)\r\n",
        "train_1T.head()"
      ],
      "execution_count": null,
      "outputs": [
        {
          "output_type": "stream",
          "text": [
            "================================================== \n",
            "Dénombrenent des mots\n",
            "\tTitle  :   27305 dont   4294 distincts\n",
            "\tBody   :  190373 dont  13091 distincts\n",
            "\tTags   :    5512 dont    867 distincts\n",
            "==================================================\n",
            "(50000, 5)\n"
          ],
          "name": "stdout"
        },
        {
          "output_type": "execute_result",
          "data": {
            "text/html": [
              "<div>\n",
              "<style scoped>\n",
              "    .dataframe tbody tr th:only-of-type {\n",
              "        vertical-align: middle;\n",
              "    }\n",
              "\n",
              "    .dataframe tbody tr th {\n",
              "        vertical-align: top;\n",
              "    }\n",
              "\n",
              "    .dataframe thead th {\n",
              "        text-align: right;\n",
              "    }\n",
              "</style>\n",
              "<table border=\"1\" class=\"dataframe\">\n",
              "  <thead>\n",
              "    <tr style=\"text-align: right;\">\n",
              "      <th></th>\n",
              "      <th>Title</th>\n",
              "      <th>Body</th>\n",
              "      <th>Tags</th>\n",
              "      <th>nTags</th>\n",
              "      <th>Tags_lbl</th>\n",
              "    </tr>\n",
              "  </thead>\n",
              "  <tbody>\n",
              "    <tr>\n",
              "      <th>14646</th>\n",
              "      <td>add project descript fogbugz</td>\n",
              "      <td>new project even edit sampl project add descri...</td>\n",
              "      <td>fogbugz</td>\n",
              "      <td>1</td>\n",
              "      <td>26437</td>\n",
              "    </tr>\n",
              "    <tr>\n",
              "      <th>34017938</th>\n",
              "      <td>decrement valu scheme</td>\n",
              "      <td>procedur find small prime larg add paramet pro...</td>\n",
              "      <td>scheme</td>\n",
              "      <td>1</td>\n",
              "      <td>35715</td>\n",
              "    </tr>\n",
              "    <tr>\n",
              "      <th>1023055</th>\n",
              "      <td>sort current point end file gvim</td>\n",
              "      <td>follow command mode gvim result star littl som...</td>\n",
              "      <td>vim</td>\n",
              "      <td>1</td>\n",
              "      <td>36655</td>\n",
              "    </tr>\n",
              "    <tr>\n",
              "      <th>2177008</th>\n",
              "      <td>mean rubi</td>\n",
              "      <td>mean rubi</td>\n",
              "      <td>ruby</td>\n",
              "      <td>1</td>\n",
              "      <td>35572</td>\n",
              "    </tr>\n",
              "    <tr>\n",
              "      <th>368947</th>\n",
              "      <td>javascript error thrown ajaxtoolkit net machin</td>\n",
              "      <td>button save asynchron ajaxtoolkit c# net error...</td>\n",
              "      <td>.net</td>\n",
              "      <td>1</td>\n",
              "      <td>32</td>\n",
              "    </tr>\n",
              "  </tbody>\n",
              "</table>\n",
              "</div>"
            ],
            "text/plain": [
              "                                                   Title  ... Tags_lbl\n",
              "14646                       add project descript fogbugz  ...    26437\n",
              "34017938                           decrement valu scheme  ...    35715\n",
              "1023055                 sort current point end file gvim  ...    36655\n",
              "2177008                                        mean rubi  ...    35572\n",
              "368947    javascript error thrown ajaxtoolkit net machin  ...       32\n",
              "\n",
              "[5 rows x 5 columns]"
            ]
          },
          "metadata": {
            "tags": []
          },
          "execution_count": 16
        }
      ]
    },
    {
      "cell_type": "markdown",
      "metadata": {
        "id": "Emm_dQkxmdlG"
      },
      "source": [
        "Réduction aux 50 top tags"
      ]
    },
    {
      "cell_type": "code",
      "metadata": {
        "colab": {
          "base_uri": "https://localhost:8080/",
          "height": 625
        },
        "id": "XQcYaZppmgb6",
        "outputId": "fd00e913-00c0-43bd-df37-bf8a981337e9"
      },
      "source": [
        "top = 50\r\n",
        "\r\n",
        "cpt = 1\r\n",
        "train_1T = train_1T[train_1T.Tags.isin(dict(freq['Tags'][:top]).keys())]\r\n",
        "\r\n",
        "freq = recap_cols(train_1T, cols)\r\n",
        "\r\n",
        "fig = plt.figure(1, figsize=(25, 10))\r\n",
        "\r\n",
        "for col in cols:\r\n",
        "    plt.subplot(1, len(cols), cpt)\r\n",
        "    plt.barh([k for k, v in sorted(freq[col][:top], key=lambda x: x[1])], \r\n",
        "             [v for k, v in sorted(freq[col][:top], key=lambda x: x[1])])\r\n",
        "    plt.title('Top {} des mots dans \"{}\"'.format(top, col))\r\n",
        "    cpt += 1 "
      ],
      "execution_count": null,
      "outputs": [
        {
          "output_type": "stream",
          "text": [
            "================================================== \n",
            "Dénombrenent des mots\n",
            "\tTitle  :   17219 dont   2865 distincts\n",
            "\tBody   :  114415 dont   9137 distincts\n",
            "\tTags   :    3481 dont     50 distincts\n",
            "==================================================\n"
          ],
          "name": "stdout"
        },
        {
          "output_type": "display_data",
          "data": {
            "image/png": "[encoded data removed]",
            "text/plain": [
              "<Figure size 1800x720 with 3 Axes>"
            ]
          },
          "metadata": {
            "tags": [],
            "needs_background": "light"
          }
        }
      ]
    },
    {
      "cell_type": "markdown",
      "metadata": {
        "id": "OcBGv99jgcQ1"
      },
      "source": [
        "# Export"
      ]
    },
    {
      "cell_type": "code",
      "metadata": {
        "id": "Lz2al4MZclv5"
      },
      "source": [
        "with open('OC_DS_P6_backup.pkl', 'wb') as file:\r\n",
        "    pickler = pickle.Pickler(file, pickle.HIGHEST_PROTOCOL) \r\n",
        "    pickler.dump(train)"
      ],
      "execution_count": null,
      "outputs": []
    }
  ]
}
