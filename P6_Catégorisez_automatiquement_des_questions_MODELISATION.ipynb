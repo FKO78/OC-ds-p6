{
  "nbformat": 4,
  "nbformat_minor": 0,
  "metadata": {
    "colab": {
      "name": "P6_Catégorisez automatiquement des questions.ipynb",
      "provenance": [],
      "toc_visible": true
    },
    "kernelspec": {
      "display_name": "Python 3",
      "name": "python3"
    }
  },
  "cells": [
    {
      "cell_type": "markdown",
      "metadata": {
        "id": "iwwfq-_Uhdlw"
      },
      "source": [
        "# Set-up"
      ]
    },
    {
      "cell_type": "code",
      "metadata": {
        "colab": {
          "base_uri": "https://localhost:8080/"
        },
        "id": "sYdDOT47fLO7",
        "outputId": "43085412-78da-42e8-9068-918a3f40fa51"
      },
      "source": [
        "import os\r\n",
        "import pandas as pd\r\n",
        "import nltk\r\n",
        "nltk.download('stopwords')\r\n",
        "nltk.download('wordnet')\r\n",
        "nltk.download('averaged_perceptron_tagger')\r\n",
        "from nltk.corpus import stopwords, wordnet\r\n",
        "from bs4 import BeautifulSoup\r\n",
        "#from lxml import etree\r\n",
        "from collections import defaultdict, Counter\r\n",
        "from nltk.stem import PorterStemmer, WordNetLemmatizer\r\n",
        "from sklearn.feature_extraction.text import TfidfVectorizer, CountVectorizer\r\n",
        "from sklearn import metrics, cluster, preprocessing\r\n",
        "import matplotlib.pyplot as plt\r\n",
        "import csv\r\n",
        "import numpy as np\r\n",
        "import random\r\n",
        "import seaborn as sns\r\n",
        "%matplotlib inline\r\n",
        "from sklearn import manifold, decomposition\r\n",
        "from sklearn.preprocessing import LabelEncoder\r\n",
        "from sklearn.model_selection import train_test_split, GridSearchCV\r\n",
        "from sklearn.neighbors import KNeighborsClassifier\r\n",
        "from sklearn.ensemble \\\r\n",
        "import RandomForestClassifier, GradientBoostingClassifier, AdaBoostClassifier\r\n",
        "from sklearn.svm import LinearSVC, SVC\r\n",
        "import timeit\r\n",
        "import itertools\r\n",
        "import pickle\r\n",
        "from sklearn.decomposition import LatentDirichletAllocation"
      ],
      "execution_count": 53,
      "outputs": [
        {
          "output_type": "stream",
          "text": [
            "[nltk_data] Downloading package stopwords to /root/nltk_data...\n",
            "[nltk_data]   Package stopwords is already up-to-date!\n",
            "[nltk_data] Downloading package wordnet to /root/nltk_data...\n",
            "[nltk_data]   Package wordnet is already up-to-date!\n",
            "[nltk_data] Downloading package averaged_perceptron_tagger to\n",
            "[nltk_data]     /root/nltk_data...\n",
            "[nltk_data]   Package averaged_perceptron_tagger is already up-to-\n",
            "[nltk_data]       date!\n"
          ],
          "name": "stdout"
        }
      ]
    },
    {
      "cell_type": "code",
      "metadata": {
        "colab": {
          "base_uri": "https://localhost:8080/"
        },
        "id": "3xXFBWEHdpdL",
        "outputId": "42035c6d-9292-4769-c2ce-0657cbfb9e26"
      },
      "source": [
        "from google.colab import drive\r\n",
        "drive.mount('/content/drive') \r\n",
        "import sys\r\n",
        "sys.path.append(\"/content/drive/My Drive/Colab Notebooks\")\r\n",
        "import os \r\n",
        "os.chdir('/content/drive/My Drive/Colab Notebooks/P6_Catégorisez automatiquement des questions')"
      ],
      "execution_count": 3,
      "outputs": [
        {
          "output_type": "stream",
          "text": [
            "Mounted at /content/drive\n"
          ],
          "name": "stdout"
        }
      ]
    },
    {
      "cell_type": "markdown",
      "metadata": {
        "id": "XtPqqEICJmfA"
      },
      "source": [
        "# Constantes et fonctions"
      ]
    },
    {
      "cell_type": "code",
      "metadata": {
        "id": "CE_5rYy1sLFF"
      },
      "source": [
        "REGEX = '[a-z0-9]+[#-]\\+{0,2}[a-z0-9]*'\r\n",
        "DICT_COLS = {'Title': 20, 'Body': 75}\r\n",
        "SAMPLE = 5000\r\n",
        "RATIO = 1/3\r\n",
        "\r\n",
        "def conv_html(col):\r\n",
        "    \"\"\"\r\n",
        "    Fonction de convertion de html en chaine standard\r\n",
        "    \"\"\"\r\n",
        "\r\n",
        "    html = BeautifulSoup(col, 'html.parser')\r\n",
        "    # Delete url strings\r\n",
        "    for t in html.find_all('a'):\r\n",
        "        t.replace_with('')\r\n",
        "    # Delete code blocks\r\n",
        "    for t in html.find_all('pre'):\r\n",
        "        t.replace_with('')\r\n",
        "    \r\n",
        "    return html.get_text(' ', strip=True)\r\n",
        "\r\n",
        "def clean_field(col, tknzr, sw, lmtzr, stmr):\r\n",
        "    \"\"\"\r\n",
        "    Fonction de tokenisation du contenu dont regex \\w+, \r\n",
        "    suppression des stopwords, lemmatisation et racinisation\r\n",
        "    \"\"\"\r\n",
        "\r\n",
        "    temp = tknzr.tokenize(unidecode.unidecode(col).lower())\r\n",
        "    return ' '.join(stmr.stem(lmtzr.lemmatize(w, get_wordnet_pos(w))) \\\r\n",
        "                    for w in temp if w not in sw and not w.isdigit())\r\n",
        "\r\n",
        "def get_wordnet_pos(word):\r\n",
        "    \"\"\"\r\n",
        "    Map POS tag to first character lemmatize() accepts\r\n",
        "    \"\"\"\r\n",
        "\r\n",
        "    tag = nltk.pos_tag([word])[0][1][0].upper()\r\n",
        "    tag_dict = {\"J\": wordnet.ADJ,\r\n",
        "                \"N\": wordnet.NOUN,\r\n",
        "                \"V\": wordnet.VERB,\r\n",
        "                \"R\": wordnet.ADV}\r\n",
        "\r\n",
        "    return tag_dict.get(tag, wordnet.NOUN)\r\n",
        "\r\n",
        "def recap_cols(df, cols):\r\n",
        "    \"\"\"\r\n",
        "    Fonction de dénombrement du contenu des listes des colonnes (cols) de df\r\n",
        "    \"\"\"\r\n",
        "\r\n",
        "    print('='*50, '\\nDénombrenent des mots')\r\n",
        "    \r\n",
        "    for col in cols:\r\n",
        "        #liste = list(itertools.chain.from_iterable(df[col].values))\r\n",
        "        freq[col] = Counter(' '.join(df[col].values).split()).most_common()\r\n",
        "        print('\\t{:6s} : {:>7d} dont {:>6d} distincts'.\\\r\n",
        "                format(col, sum(dict(freq[col]).values()), len(freq[col])))\r\n",
        "    print('='*50)\r\n",
        "        \r\n",
        "    return freq\r\n",
        "\r\n",
        "def tag_question(title, body):\r\n",
        "    \"\"\"\r\n",
        "    Prediction function of stackexchange tags from a query passed as parameter\r\n",
        "    \"\"\" \r\n",
        "\r\n",
        "    RATIO = 1/3\r\n",
        "    REGEX = '[a-z0-9]+[#-]?[a-z0-9]*'\r\n",
        "\r\n",
        "    # Stopwords nltk \r\n",
        "    std_sw = set(nltk.corpus.stopwords.words('english')) \r\n",
        "\r\n",
        "    # Extra stopwords = radicaux qui ne me semblent pas discriminants \r\n",
        "    extra_sw = ('use', 'get', 'like', 'way', 'creat', 'would', 'want', 'need',\\\r\n",
        "                'know', 'could', 'x', 'xx', 'xyz', 'aa', 'xxx', 'z', 'yyyi', 'wont',\\\r\n",
        "                'aaa', 'aaaaaa', 'aabbc', 'aandb', 'aarrggbb')\r\n",
        "\r\n",
        "\r\n",
        "    tokenizer = nltk.RegexpTokenizer(REGEX)\r\n",
        "    lemmatizer = WordNetLemmatizer() \r\n",
        "    stemmer = PorterStemmer()\r\n",
        "\r\n",
        "    with open('OC_DS_P6_prod.pkl', 'rb') as file:\r\n",
        "        unpickler = pickle.Unpickler(file)\r\n",
        "        sclr = unpickler.load()\r\n",
        "        tfidf = unpickler.load()\r\n",
        "        mod = unpickler.load()\r\n",
        "        lbl = unpickler.load()\r\n",
        "\r\n",
        "    title = clean_field(title, tknzr=tokenizer, sw=std_sw, \\\r\n",
        "                        lmtzr=lemmatizer, stmr=stemmer)\r\n",
        "    title = ' '.join([w for w in title.split() \\\r\n",
        "                       if w not in extra_sw and not w.isdigit()])\r\n",
        "\r\n",
        "    body = clean_field(body, tknzr=tokenizer, sw=std_sw, \\\r\n",
        "                       lmtzr=lemmatizer, stmr=stemmer)\r\n",
        "    body = ' '.join([w for w in body.split() \\\r\n",
        "                      if w not in extra_sw and not w.isdigit()])\r\n",
        "    \r\n",
        "    tfidf_q = tfidf['Title'].transform([title])\r\n",
        "    cols = tfidf['Title'].get_feature_names()\r\n",
        "    tfidf_q = pd.DataFrame(tfidf_q.todense().tolist(), columns=cols)\r\n",
        "\r\n",
        "    tfidf_b = tfidf['Body'].transform([body])\r\n",
        "    cols = tfidf['Body'].get_feature_names()\r\n",
        "    tfidf_b = pd.DataFrame(tfidf_b.todense().tolist(), columns=cols)\r\n",
        "\r\n",
        "    X = (RATIO * tfidf_q).add((1 - RATIO) * tfidf_b, fill_value=0).fillna(0)\r\n",
        "\r\n",
        "    return '<{}>'.format('><'.\\\r\n",
        "                         join(lbl.inverse_transform(mod.predict(sclr.transform(X))).\\\r\n",
        "                                                    split()))"
      ],
      "execution_count": 4,
      "outputs": []
    },
    {
      "cell_type": "markdown",
      "metadata": {
        "id": "1bt_3CT4ZW8O"
      },
      "source": [
        "# Chargement"
      ]
    },
    {
      "cell_type": "code",
      "metadata": {
        "id": "PsNdhme0fm5V"
      },
      "source": [
        "with open('OC_DS_P6_backup.pkl', 'rb') as file:\r\n",
        "    unpickler = pickle.Unpickler(file)\r\n",
        "    train = unpickler.load()\r\n",
        "\r\n",
        "# Etiquetage des tags\r\n",
        "lbl = LabelEncoder()\r\n",
        "train['Tags_lbl'] = lbl.fit_transform(train.Tags)"
      ],
      "execution_count": 5,
      "outputs": []
    },
    {
      "cell_type": "code",
      "metadata": {
        "id": "yvvwr5gVxm6j",
        "outputId": "02fbf598-d2d3-489f-d669-a3f41e64bd56",
        "colab": {
          "base_uri": "https://localhost:8080/",
          "height": 289
        }
      },
      "source": [
        "train.head()"
      ],
      "execution_count": 6,
      "outputs": [
        {
          "output_type": "execute_result",
          "data": {
            "text/html": [
              "<div>\n",
              "<style scoped>\n",
              "    .dataframe tbody tr th:only-of-type {\n",
              "        vertical-align: middle;\n",
              "    }\n",
              "\n",
              "    .dataframe tbody tr th {\n",
              "        vertical-align: top;\n",
              "    }\n",
              "\n",
              "    .dataframe thead th {\n",
              "        text-align: right;\n",
              "    }\n",
              "</style>\n",
              "<table border=\"1\" class=\"dataframe\">\n",
              "  <thead>\n",
              "    <tr style=\"text-align: right;\">\n",
              "      <th></th>\n",
              "      <th>Title</th>\n",
              "      <th>Body</th>\n",
              "      <th>Tags</th>\n",
              "      <th>nTags</th>\n",
              "      <th>full</th>\n",
              "      <th>Tags_lbl</th>\n",
              "    </tr>\n",
              "  </thead>\n",
              "  <tbody>\n",
              "    <tr>\n",
              "      <th>169828</th>\n",
              "      <td>benefit studio team system databas edit</td>\n",
              "      <td>anyon vst databas edit featur standard studio ...</td>\n",
              "      <td>database-tools sql-server</td>\n",
              "      <td>2</td>\n",
              "      <td>benefit studio team system databas edit gdr an...</td>\n",
              "      <td>22152</td>\n",
              "    </tr>\n",
              "    <tr>\n",
              "      <th>431644</th>\n",
              "      <td>hook formsauthenticationmodul medium trust env...</td>\n",
              "      <td>httpmodul applic hook formsauthenticationmodul...</td>\n",
              "      <td>asp.net events forms-authentication httpmodule...</td>\n",
              "      <td>5</td>\n",
              "      <td>hook formsauthenticationmodul medium trust env...</td>\n",
              "      <td>8112</td>\n",
              "    </tr>\n",
              "    <tr>\n",
              "      <th>1450121</th>\n",
              "      <td>sync algorithm refer directori</td>\n",
              "      <td>plan write program sync folder time across mul...</td>\n",
              "      <td>algorithm synchronization</td>\n",
              "      <td>2</td>\n",
              "      <td>sync algorithm refer directori plan write prog...</td>\n",
              "      <td>5236</td>\n",
              "    </tr>\n",
              "    <tr>\n",
              "      <th>426609</th>\n",
              "      <td>assign profil valu</td>\n",
              "      <td>profil properti web config file cannot access ...</td>\n",
              "      <td>asp.net asp.net-membership asp.net-mvc profile</td>\n",
              "      <td>4</td>\n",
              "      <td>assign profil valu profil properti web config ...</td>\n",
              "      <td>7373</td>\n",
              "    </tr>\n",
              "    <tr>\n",
              "      <th>14646</th>\n",
              "      <td>project descript fogbugz</td>\n",
              "      <td>project edit sampl project descript project blind</td>\n",
              "      <td>fogbugz</td>\n",
              "      <td>1</td>\n",
              "      <td>project descript fogbugz project edit sampl pr...</td>\n",
              "      <td>26437</td>\n",
              "    </tr>\n",
              "  </tbody>\n",
              "</table>\n",
              "</div>"
            ],
            "text/plain": [
              "                                                     Title  ... Tags_lbl\n",
              "169828             benefit studio team system databas edit  ...    22152\n",
              "431644   hook formsauthenticationmodul medium trust env...  ...     8112\n",
              "1450121                     sync algorithm refer directori  ...     5236\n",
              "426609                                  assign profil valu  ...     7373\n",
              "14646                             project descript fogbugz  ...    26437\n",
              "\n",
              "[5 rows x 6 columns]"
            ]
          },
          "metadata": {
            "tags": []
          },
          "execution_count": 6
        }
      ]
    },
    {
      "cell_type": "code",
      "metadata": {
        "id": "DYmdGZ-WajA8",
        "colab": {
          "base_uri": "https://localhost:8080/",
          "height": 204
        },
        "outputId": "ceaa6b60-5f90-4534-e05d-307ebd67a191"
      },
      "source": [
        "train.nTags.value_counts().to_frame().sort_index()"
      ],
      "execution_count": 7,
      "outputs": [
        {
          "output_type": "execute_result",
          "data": {
            "text/html": [
              "<div>\n",
              "<style scoped>\n",
              "    .dataframe tbody tr th:only-of-type {\n",
              "        vertical-align: middle;\n",
              "    }\n",
              "\n",
              "    .dataframe tbody tr th {\n",
              "        vertical-align: top;\n",
              "    }\n",
              "\n",
              "    .dataframe thead th {\n",
              "        text-align: right;\n",
              "    }\n",
              "</style>\n",
              "<table border=\"1\" class=\"dataframe\">\n",
              "  <thead>\n",
              "    <tr style=\"text-align: right;\">\n",
              "      <th></th>\n",
              "      <th>nTags</th>\n",
              "    </tr>\n",
              "  </thead>\n",
              "  <tbody>\n",
              "    <tr>\n",
              "      <th>1</th>\n",
              "      <td>5512</td>\n",
              "    </tr>\n",
              "    <tr>\n",
              "      <th>2</th>\n",
              "      <td>13722</td>\n",
              "    </tr>\n",
              "    <tr>\n",
              "      <th>3</th>\n",
              "      <td>15367</td>\n",
              "    </tr>\n",
              "    <tr>\n",
              "      <th>4</th>\n",
              "      <td>10228</td>\n",
              "    </tr>\n",
              "    <tr>\n",
              "      <th>5</th>\n",
              "      <td>5171</td>\n",
              "    </tr>\n",
              "  </tbody>\n",
              "</table>\n",
              "</div>"
            ],
            "text/plain": [
              "   nTags\n",
              "1   5512\n",
              "2  13722\n",
              "3  15367\n",
              "4  10228\n",
              "5   5171"
            ]
          },
          "metadata": {
            "tags": []
          },
          "execution_count": 7
        }
      ]
    },
    {
      "cell_type": "code",
      "metadata": {
        "id": "7qFUpBW0A67p",
        "outputId": "52ef6527-f936-4aca-aef8-ee64e994b8b3",
        "colab": {
          "base_uri": "https://localhost:8080/"
        }
      },
      "source": [
        "train = train.sample(10000)\r\n",
        "len(train.Tags.unique())"
      ],
      "execution_count": 8,
      "outputs": [
        {
          "output_type": "execute_result",
          "data": {
            "text/plain": [
              "8374"
            ]
          },
          "metadata": {
            "tags": []
          },
          "execution_count": 8
        }
      ]
    },
    {
      "cell_type": "markdown",
      "metadata": {
        "id": "vgvKFY3GbeJg"
      },
      "source": [
        "# TF-IDF\r\n",
        "Je crée un dictionnaire avec les vecteurs TFIDF pour les appeler dans la fonction finale"
      ]
    },
    {
      "cell_type": "code",
      "metadata": {
        "id": "ztTXvJqQT37i",
        "colab": {
          "base_uri": "https://localhost:8080/"
        },
        "outputId": "3b3ca9fa-a087-4dc0-abbf-e3cd16f95cd8"
      },
      "source": [
        "dict_tfidf = defaultdict(dict)\r\n",
        "\r\n",
        "for col in ['Title', 'Body']:\r\n",
        "    X = train[col].copy()\r\n",
        "\r\n",
        "    dict_tfidf['vector'][col] = TfidfVectorizer(token_pattern=REGEX).fit(X)\r\n",
        "    v_tfidf = dict_tfidf['vector'][col].transform(X)\r\n",
        "    cols = dict_tfidf['vector'][col].get_feature_names()\r\n",
        "    dict_tfidf['df'][col] = pd.DataFrame(v_tfidf.todense().tolist(), \\\r\n",
        "                                         columns=cols, index=train.index)\r\n",
        "    print(col, ':', dict_tfidf['df'][col].shape)\r\n",
        "    print(cols)"
      ],
      "execution_count": 9,
      "outputs": [
        {
          "output_type": "stream",
          "text": [
            "Title : (10000, 117)\n",
            "['64-bit', '8-bit', 'a-z', 'add-in', 'ansi-c', 'anti-pattern', 'application-wid', 'auto-format', 'auto-properti', 'auto-tun', 'b-spline', 'built-in', 'c#', 'cgi-bin', 'cherry-pick', 'client-sid', 'code-behind', 'command-lin', 'content-typ', 'cross-brows', 'cross-platform', 'data-convers', 'design-tim', 'django-registr', 'double-buff', 'double-quot', 'e-mail', 'edit-inplac', 'export-packag', 'f#', 'ffmpeg-php', 'file-path', 'fine-grain', 'floating-point', 'for-each', 'for-loop', 'front-end', 'generate-id', 'git-clang', 'git-svn', 'guile-gnom', 'hands-on', 'hmac-sha', 'how-to', 'in-memori', 'iso-8859', 'j#', 'key-valu', 'linq-to', 'logged-in', 'logic-less', 'many-to', 'meta-program', 'mime-typ', 'ms-access', 'multi-cor', 'multi-level', 'multi-lin', 'multi-pag', 'multi-select', 'multi-ten', 'must-read', 'n-tier', 'ng-messag', 'object-databas', 'objective-c', 'one-lin', 'one-way', 'open-sourc', 'os-level', 'pass-bi', 'password-protect', 'plug-in', 'pop-up', 'post-commit', 'post-initi', 'pre-ansi', 'pre-commit', 'protobuf-net', 'public-key', 'radix-sort', 're-us', 'redux-form', 'request-process', 'run-tim', 's-box', 'self-clos', 'semi-colon', 'server-sid', 'short-circuit', 'show-signatur', 'side-bi', 'side-effect', 'spring-w', 'ssl-certif', 'stand-alon', 'stl-like', 'sub-domain', 'sub-menu', 'svn-base', 't-sql', 'tab-width', 'text-to', 'thing-at', 'third-parti', 'top-level', 'try-catch', 'two-factor', 'two-way', 'vertical-align', 'web-inf', 'www-authent', 'xml-document', 'xml-rpc', 'y-axi', 'yyyy-mm', 'z-index']\n",
            "Body : (10000, 171)\n",
            "['24-bit', '64-bit', '8-bit', 'a-z', 'add-in', 'aes-256', 'anti-pattern', 'application-wid', 'auto-complet', 'auto-fil', 'auto-format', 'auto-properti', 'auto-tun', 'background-color', 'built-in', 'c#', 'c#3', 'c-style', 'cache-control', 'ccc1-', 'ccc2-', 'cgi-bin', 'check-in', 'cherry-pick', 'click-onc', 'client-sid', 'code-behind', 'command-lin', 'content-typ', 'cross-brows', 'cross-compil', 'cross-platform', 'data-bound', 'data-convers', 'design-tim', 'django-registr', 'dll-', 'double-buff', 'double-click', 'double-quot', 'drop-down', 'e-mail', 'export-packag', 'f#', 'ffmpeg-php', 'fine-grain', 'flat-fil', 'floating-point', 'font-siz', 'for-each', 'for-loop', 'front-end', 'gdk-pixbuf', 'generate-id', 'git-clang', 'git-svn', 'gtk#', 'guile-gnom', 'hands-on', 'hmac-sha', 'how-to', 'http-core', 'hyper-thread', 'in-lin', 'in-memori', 'informix-sql', 'iso-8859', 'j#', 'jax-w', 'key-valu', 'latin-1', 'linq-to', 'logged-in', 'logic-less', 'many-to', 'mark-up', 'merge-track', 'meta-inf', 'meta-program', 'mime-typ', 'ms-access', 'multi-cor', 'multi-level', 'multi-lin', 'multi-row', 'multi-select', 'n-tier', 'ng-messag', 'ng-repeat', 'non-block', 'non-break', 'non-imag', 'null-check', 'object-databas', 'objective-c', 'old-school', 'on-demand', 'one-lin', 'one-way', 'open-sourc', 'os-level', 'out-of', 'pass-bi', 'password-protect', 'plug-in', 'pop-up', 'post-back', 'post-commit', 'post-initi', 'pre-ansi', 'pre-commit', 'protobuf-net', 'pseudo-cod', 'public-key', 'python-devel', 'radix-sort', 'rate-limit', 're-declar', 're-entr', 're-ord', 're-us', 're-writ', 'ready-mad', 'real-world', 'redux-form', 'request-process', 'request-uri', 'run-tim', 's-box', 's-express', 'semi-colon', 'server-sid', 'short-circuit', 'show-signatur', 'side-bi', 'side-effect', 'speed-up', 'spring-w', 'ssl-certif', 'stand-alon', 'stl-like', 'sub-domain', 'sub-menu', 'sub-regist', 'svn-base', 'system-wid', 't-sql', 'tab-width', 'text-to', 'thing-at', 'third-parti', 'this-', 'to-do', 'top-level', 'try-catch', 'two-factor', 'user-control', 'vertical-align', 'view-model', 'warp-persist', 'web-inf', 'web-servic', 'windows-1255', 'www-authent', 'www-data', 'x-axi', 'xml-document', 'xml-rpc', 'y-axi', 'yyyy-mm', 'z-index']\n"
          ],
          "name": "stdout"
        }
      ]
    },
    {
      "cell_type": "markdown",
      "metadata": {
        "id": "Mlrb0nFXIbok"
      },
      "source": [
        "# Clustering"
      ]
    },
    {
      "cell_type": "markdown",
      "metadata": {
        "id": "0M6QAAbE060U"
      },
      "source": [
        "## Title"
      ]
    },
    {
      "cell_type": "markdown",
      "metadata": {
        "id": "uu5nJRD2VPbB"
      },
      "source": [
        "### PCA"
      ]
    },
    {
      "cell_type": "code",
      "metadata": {
        "colab": {
          "base_uri": "https://localhost:8080/"
        },
        "id": "h2MX2_U7VNyi",
        "outputId": "12375039-b2ce-4891-e21f-c3d271441523"
      },
      "source": [
        "pca = decomposition.PCA(n_components=2)\r\n",
        "\r\n",
        "X = dict_tfidf['df']['Title']\r\n",
        "\r\n",
        "# On scale d’abord les données \r\n",
        "std_scale = preprocessing.StandardScaler().fit(X)\r\n",
        "X_scaled = std_scale.transform(X)\r\n",
        "\r\n",
        "X_trans = pca.fit_transform(X_scaled)\r\n",
        "\r\n",
        "print(\"PCA\", len(pca.components_), \"composants:\", \\\r\n",
        "      pca.explained_variance_ratio_, pca.explained_variance_ratio_.sum())"
      ],
      "execution_count": 10,
      "outputs": [
        {
          "output_type": "stream",
          "text": [
            "PCA 2 composants: [0.0133606 0.0103979] 0.023758507072790896\n"
          ],
          "name": "stdout"
        }
      ]
    },
    {
      "cell_type": "code",
      "metadata": {
        "colab": {
          "base_uri": "https://localhost:8080/",
          "height": 425
        },
        "id": "oad-uJmKn8EX",
        "outputId": "1f42fb7e-560c-4399-d895-ddf9e38df5fb"
      },
      "source": [
        "# Iteration de clustering kmeans avec des nb de clusters différents\r\n",
        "silhouettes = []\r\n",
        "cluster_range = range(10, 150, 10)\r\n",
        "for n in cluster_range:\r\n",
        "    myclust = cluster.KMeans(n_clusters=n, random_state=1)\r\n",
        "    myclust.fit(X_scaled)\r\n",
        "    silhouettes.append(metrics.silhouette_score(X_scaled, myclust.labels_))\r\n",
        "\r\n",
        "best_cluster = cluster_range[np.argmax(silhouettes)]\r\n",
        "print('best clustering = ', best_cluster)\r\n",
        "\r\n",
        "fig = plt.figure(figsize=(10, 5))\r\n",
        "plt.plot(cluster_range, silhouettes, marker='o')"
      ],
      "execution_count": 17,
      "outputs": [
        {
          "output_type": "stream",
          "text": [
            "/usr/local/lib/python3.7/dist-packages/ipykernel_launcher.py:7: ConvergenceWarning: Number of distinct clusters (124) found smaller than n_clusters (130). Possibly due to duplicate points in X.\n",
            "  import sys\n",
            "/usr/local/lib/python3.7/dist-packages/ipykernel_launcher.py:7: ConvergenceWarning: Number of distinct clusters (124) found smaller than n_clusters (140). Possibly due to duplicate points in X.\n",
            "  import sys\n"
          ],
          "name": "stderr"
        },
        {
          "output_type": "stream",
          "text": [
            "best clustering =  120\n"
          ],
          "name": "stdout"
        },
        {
          "output_type": "display_data",
          "data": {
            "image/png": "[encoded data removed]",
            "text/plain": [
              "<Figure size 720x360 with 1 Axes>"
            ]
          },
          "metadata": {
            "tags": [],
            "needs_background": "light"
          }
        }
      ]
    },
    {
      "cell_type": "code",
      "metadata": {
        "colab": {
          "base_uri": "https://localhost:8080/",
          "height": 1000
        },
        "id": "_9fdYeMSIg52",
        "outputId": "6c119fd0-6e59-4ca2-af0d-82d17e1a82e8"
      },
      "source": [
        "nb_clusters = best_cluster\r\n",
        "color = [\"#\"+''.join([random.choice('0123456789ABCDEF') for j in range(6)])\r\n",
        "        for i in range(nb_clusters)]\r\n",
        "\r\n",
        "fig = plt.figure(figsize=(20, 20))\r\n",
        "\r\n",
        "# Puis on applique tSNE aux données scalées :\r\n",
        "#tsne = manifold.TSNE(n_components=2, init='pca')\r\n",
        "#X_trans = tsne.fit_transform(X_scaled)\r\n",
        "\r\n",
        "# Clustering avec kmeans\r\n",
        "myclust = cluster.KMeans(n_clusters=nb_clusters)\r\n",
        "myclust.fit(X_scaled)\r\n",
        "\r\n",
        "# Puis on visualise \r\n",
        "for i in range(X.shape[0]): # pour chaque point\r\n",
        "    plt.text(X_trans[i, 0], X_trans[i, 1], \r\n",
        "             myclust.labels_[i], color=color[myclust.labels_[i]] ) \r\n",
        "    #plt.cm.Set2(myclust.labels_[i]/10.))\r\n",
        "\r\n",
        "# On redéfinit les axes pour bien voir tous les points\r\n",
        "plt.xlim(np.around([np.min(X_trans[:, 0]), np.max(X_trans[:, 0])], decimals=-1))\r\n",
        "plt.ylim(np.around([np.min(X_trans[:, 1]), np.max(X_trans[:, 1])], decimals=-1))\r\n",
        "\r\n",
        "# On affiche l'image\r\n",
        "plt.show()\r\n",
        "\r\n",
        "# 3. Évaluation\r\n",
        "# Pour l’évaluation intrinsèque, je choisis le coefficient de silhouette :\r\n",
        "print(\"Silhouette Coefficient: %0.3f\" % metrics.silhouette_score(X, myclust.labels_))"
      ],
      "execution_count": 21,
      "outputs": [
        {
          "output_type": "display_data",
          "data": {
            "image/png": "[encoded data removed]",
            "text/plain": [
              "<Figure size 1440x1440 with 1 Axes>"
            ]
          },
          "metadata": {
            "tags": [],
            "needs_background": "light"
          }
        },
        {
          "output_type": "stream",
          "text": [
            "Silhouette Coefficient: 0.992\n"
          ],
          "name": "stdout"
        }
      ]
    },
    {
      "cell_type": "code",
      "metadata": {
        "colab": {
          "base_uri": "https://localhost:8080/",
          "height": 129
        },
        "id": "L4nw-R65SNjr",
        "outputId": "3430379e-415e-4e04-8a40-ffd6bb4e0a8b"
      },
      "source": [
        "#Create a cluster label column in the original DataFrame\r\n",
        "y = myclust.labels_\r\n",
        "tfidf = dict_tfidf['df']['Title'].assign(cluster = y)\r\n",
        "tfidf.groupby(['cluster'])[['cluster']].count().T.reset_index(drop=True)"
      ],
      "execution_count": 22,
      "outputs": [
        {
          "output_type": "execute_result",
          "data": {
            "text/html": [
              "<div>\n",
              "<style scoped>\n",
              "    .dataframe tbody tr th:only-of-type {\n",
              "        vertical-align: middle;\n",
              "    }\n",
              "\n",
              "    .dataframe tbody tr th {\n",
              "        vertical-align: top;\n",
              "    }\n",
              "\n",
              "    .dataframe thead th {\n",
              "        text-align: right;\n",
              "    }\n",
              "</style>\n",
              "<table border=\"1\" class=\"dataframe\">\n",
              "  <thead>\n",
              "    <tr style=\"text-align: right;\">\n",
              "      <th>cluster</th>\n",
              "      <th>0</th>\n",
              "      <th>1</th>\n",
              "      <th>2</th>\n",
              "      <th>3</th>\n",
              "      <th>4</th>\n",
              "      <th>5</th>\n",
              "      <th>6</th>\n",
              "      <th>7</th>\n",
              "      <th>8</th>\n",
              "      <th>9</th>\n",
              "      <th>10</th>\n",
              "      <th>11</th>\n",
              "      <th>12</th>\n",
              "      <th>13</th>\n",
              "      <th>14</th>\n",
              "      <th>15</th>\n",
              "      <th>16</th>\n",
              "      <th>17</th>\n",
              "      <th>18</th>\n",
              "      <th>19</th>\n",
              "      <th>20</th>\n",
              "      <th>21</th>\n",
              "      <th>22</th>\n",
              "      <th>23</th>\n",
              "      <th>24</th>\n",
              "      <th>25</th>\n",
              "      <th>26</th>\n",
              "      <th>27</th>\n",
              "      <th>28</th>\n",
              "      <th>29</th>\n",
              "      <th>30</th>\n",
              "      <th>31</th>\n",
              "      <th>32</th>\n",
              "      <th>33</th>\n",
              "      <th>34</th>\n",
              "      <th>35</th>\n",
              "      <th>36</th>\n",
              "      <th>37</th>\n",
              "      <th>38</th>\n",
              "      <th>39</th>\n",
              "      <th>...</th>\n",
              "      <th>80</th>\n",
              "      <th>81</th>\n",
              "      <th>82</th>\n",
              "      <th>83</th>\n",
              "      <th>84</th>\n",
              "      <th>85</th>\n",
              "      <th>86</th>\n",
              "      <th>87</th>\n",
              "      <th>88</th>\n",
              "      <th>89</th>\n",
              "      <th>90</th>\n",
              "      <th>91</th>\n",
              "      <th>92</th>\n",
              "      <th>93</th>\n",
              "      <th>94</th>\n",
              "      <th>95</th>\n",
              "      <th>96</th>\n",
              "      <th>97</th>\n",
              "      <th>98</th>\n",
              "      <th>99</th>\n",
              "      <th>100</th>\n",
              "      <th>101</th>\n",
              "      <th>102</th>\n",
              "      <th>103</th>\n",
              "      <th>104</th>\n",
              "      <th>105</th>\n",
              "      <th>106</th>\n",
              "      <th>107</th>\n",
              "      <th>108</th>\n",
              "      <th>109</th>\n",
              "      <th>110</th>\n",
              "      <th>111</th>\n",
              "      <th>112</th>\n",
              "      <th>113</th>\n",
              "      <th>114</th>\n",
              "      <th>115</th>\n",
              "      <th>116</th>\n",
              "      <th>117</th>\n",
              "      <th>118</th>\n",
              "      <th>119</th>\n",
              "    </tr>\n",
              "  </thead>\n",
              "  <tbody>\n",
              "    <tr>\n",
              "      <th>0</th>\n",
              "      <td>9321</td>\n",
              "      <td>1</td>\n",
              "      <td>3</td>\n",
              "      <td>1</td>\n",
              "      <td>1</td>\n",
              "      <td>3</td>\n",
              "      <td>1</td>\n",
              "      <td>1</td>\n",
              "      <td>1</td>\n",
              "      <td>3</td>\n",
              "      <td>2</td>\n",
              "      <td>2</td>\n",
              "      <td>1</td>\n",
              "      <td>30</td>\n",
              "      <td>3</td>\n",
              "      <td>1</td>\n",
              "      <td>3</td>\n",
              "      <td>1</td>\n",
              "      <td>5</td>\n",
              "      <td>2</td>\n",
              "      <td>1</td>\n",
              "      <td>10</td>\n",
              "      <td>1</td>\n",
              "      <td>2</td>\n",
              "      <td>1</td>\n",
              "      <td>2</td>\n",
              "      <td>1</td>\n",
              "      <td>6</td>\n",
              "      <td>2</td>\n",
              "      <td>2</td>\n",
              "      <td>425</td>\n",
              "      <td>1</td>\n",
              "      <td>2</td>\n",
              "      <td>2</td>\n",
              "      <td>2</td>\n",
              "      <td>1</td>\n",
              "      <td>1</td>\n",
              "      <td>1</td>\n",
              "      <td>2</td>\n",
              "      <td>2</td>\n",
              "      <td>...</td>\n",
              "      <td>1</td>\n",
              "      <td>1</td>\n",
              "      <td>1</td>\n",
              "      <td>1</td>\n",
              "      <td>1</td>\n",
              "      <td>1</td>\n",
              "      <td>1</td>\n",
              "      <td>1</td>\n",
              "      <td>1</td>\n",
              "      <td>1</td>\n",
              "      <td>1</td>\n",
              "      <td>1</td>\n",
              "      <td>1</td>\n",
              "      <td>1</td>\n",
              "      <td>1</td>\n",
              "      <td>1</td>\n",
              "      <td>1</td>\n",
              "      <td>1</td>\n",
              "      <td>1</td>\n",
              "      <td>1</td>\n",
              "      <td>1</td>\n",
              "      <td>1</td>\n",
              "      <td>1</td>\n",
              "      <td>1</td>\n",
              "      <td>1</td>\n",
              "      <td>3</td>\n",
              "      <td>1</td>\n",
              "      <td>1</td>\n",
              "      <td>19</td>\n",
              "      <td>2</td>\n",
              "      <td>6</td>\n",
              "      <td>5</td>\n",
              "      <td>12</td>\n",
              "      <td>6</td>\n",
              "      <td>3</td>\n",
              "      <td>2</td>\n",
              "      <td>5</td>\n",
              "      <td>1</td>\n",
              "      <td>1</td>\n",
              "      <td>1</td>\n",
              "    </tr>\n",
              "  </tbody>\n",
              "</table>\n",
              "<p>1 rows × 120 columns</p>\n",
              "</div>"
            ],
            "text/plain": [
              "cluster   0    1    2    3    4    5    6    ...  113  114  115  116  117  118  119\n",
              "0        9321    1    3    1    1    3    1  ...    6    3    2    5    1    1    1\n",
              "\n",
              "[1 rows x 120 columns]"
            ]
          },
          "metadata": {
            "tags": []
          },
          "execution_count": 22
        }
      ]
    },
    {
      "cell_type": "code",
      "metadata": {
        "colab": {
          "base_uri": "https://localhost:8080/",
          "height": 359
        },
        "id": "xPw1wtLB10Bq",
        "outputId": "7c1a064e-0f27-4b3e-e6c0-065b2057fd3c"
      },
      "source": [
        "tfidf[tfidf.cluster == 21][['cluster']].merge(train[['Title', 'Body', 'Tags']], left_index=True, right_index=True)"
      ],
      "execution_count": 23,
      "outputs": [
        {
          "output_type": "execute_result",
          "data": {
            "text/html": [
              "<div>\n",
              "<style scoped>\n",
              "    .dataframe tbody tr th:only-of-type {\n",
              "        vertical-align: middle;\n",
              "    }\n",
              "\n",
              "    .dataframe tbody tr th {\n",
              "        vertical-align: top;\n",
              "    }\n",
              "\n",
              "    .dataframe thead th {\n",
              "        text-align: right;\n",
              "    }\n",
              "</style>\n",
              "<table border=\"1\" class=\"dataframe\">\n",
              "  <thead>\n",
              "    <tr style=\"text-align: right;\">\n",
              "      <th></th>\n",
              "      <th>cluster</th>\n",
              "      <th>Title</th>\n",
              "      <th>Body</th>\n",
              "      <th>Tags</th>\n",
              "    </tr>\n",
              "  </thead>\n",
              "  <tbody>\n",
              "    <tr>\n",
              "      <th>186229</th>\n",
              "      <td>21</td>\n",
              "      <td>nhibern bidirect many-to associ</td>\n",
              "      <td>class descript map contact properti onto tabl ...</td>\n",
              "      <td>nhibernate</td>\n",
              "    </tr>\n",
              "    <tr>\n",
              "      <th>1742406</th>\n",
              "      <td>21</td>\n",
              "      <td>error many-to relationship grail</td>\n",
              "      <td>tri fetch address code error messag valu param...</td>\n",
              "      <td>grails</td>\n",
              "    </tr>\n",
              "    <tr>\n",
              "      <th>360026</th>\n",
              "      <td>21</td>\n",
              "      <td>hibern hibern delet record child tabl parent c...</td>\n",
              "      <td>let two tabl child parent many-to one relat de...</td>\n",
              "      <td>cascade database hibernate java mysql</td>\n",
              "    </tr>\n",
              "    <tr>\n",
              "      <th>160298</th>\n",
              "      <td>21</td>\n",
              "      <td>django python object set many-to relationship</td>\n",
              "      <td>part question part implement question django t...</td>\n",
              "      <td>algorithm django puzzle python</td>\n",
              "    </tr>\n",
              "    <tr>\n",
              "      <th>1259996</th>\n",
              "      <td>21</td>\n",
              "      <td>entiti framework work many-to relationship</td>\n",
              "      <td>contain tabl tabl cross refer tabl many-to rel...</td>\n",
              "      <td>entity-framework linq many-to-many</td>\n",
              "    </tr>\n",
              "    <tr>\n",
              "      <th>2121212</th>\n",
              "      <td>21</td>\n",
              "      <td>many-to entiti framework</td>\n",
              "      <td>applic entiti framework model many-to relation...</td>\n",
              "      <td>entity-framework</td>\n",
              "    </tr>\n",
              "    <tr>\n",
              "      <th>245102</th>\n",
              "      <td>21</td>\n",
              "      <td>nhibern many-to one map tabl</td>\n",
              "      <td>situat two entiti share primari key transact t...</td>\n",
              "      <td>mapping nhibernate</td>\n",
              "    </tr>\n",
              "    <tr>\n",
              "      <th>160051</th>\n",
              "      <td>21</td>\n",
              "      <td>many-to primari</td>\n",
              "      <td>databas repres comput user comput multipl user...</td>\n",
              "      <td>database-design sql-server</td>\n",
              "    </tr>\n",
              "    <tr>\n",
              "      <th>2517390</th>\n",
              "      <td>21</td>\n",
              "      <td>side many-to relationship grail domain object</td>\n",
              "      <td>problem many-to relationship grail anyth frien...</td>\n",
              "      <td>gorm grails groovy many-to-many</td>\n",
              "    </tr>\n",
              "    <tr>\n",
              "      <th>3066891</th>\n",
              "      <td>21</td>\n",
              "      <td>many-to relationship properti googl app engin ...</td>\n",
              "      <td>understand relationship app must set key objec...</td>\n",
              "      <td>google-app-engine java many-to-many relationship</td>\n",
              "    </tr>\n",
              "  </tbody>\n",
              "</table>\n",
              "</div>"
            ],
            "text/plain": [
              "         cluster  ...                                              Tags\n",
              "186229        21  ...                                        nhibernate\n",
              "1742406       21  ...                                            grails\n",
              "360026        21  ...             cascade database hibernate java mysql\n",
              "160298        21  ...                    algorithm django puzzle python\n",
              "1259996       21  ...                entity-framework linq many-to-many\n",
              "2121212       21  ...                                  entity-framework\n",
              "245102        21  ...                                mapping nhibernate\n",
              "160051        21  ...                        database-design sql-server\n",
              "2517390       21  ...                   gorm grails groovy many-to-many\n",
              "3066891       21  ...  google-app-engine java many-to-many relationship\n",
              "\n",
              "[10 rows x 4 columns]"
            ]
          },
          "metadata": {
            "tags": []
          },
          "execution_count": 23
        }
      ]
    },
    {
      "cell_type": "markdown",
      "metadata": {
        "id": "ZRxqWVNj1EKh"
      },
      "source": [
        "## Quote-part Title et Body\r\n"
      ]
    },
    {
      "cell_type": "code",
      "metadata": {
        "id": "5z13UPQf7Onn"
      },
      "source": [
        "X = (RATIO * dict_tfidf['df']['Title']).add((1 - RATIO) * dict_tfidf['df']['Body'], \\\r\n",
        "                                            fill_value=0).fillna(0)\r\n",
        "\r\n",
        "# On scale d’abord les données \r\n",
        "std_scale = preprocessing.StandardScaler().fit(X)\r\n",
        "X_scaled = std_scale.transform(X)"
      ],
      "execution_count": 37,
      "outputs": []
    },
    {
      "cell_type": "markdown",
      "metadata": {
        "id": "Vjz6SUyX7P54"
      },
      "source": [
        "### PCA"
      ]
    },
    {
      "cell_type": "code",
      "metadata": {
        "id": "OuZpyZ_71UTf",
        "colab": {
          "base_uri": "https://localhost:8080/"
        },
        "outputId": "262352cb-d11c-4a0a-e408-e236d982ad0e"
      },
      "source": [
        "pca = decomposition.PCA(n_components=2)\r\n",
        "X_trans = pca.fit_transform(X_scaled)\r\n",
        "print(\"PCA\", len(pca.components_), \"composants:\", \\\r\n",
        "      pca.explained_variance_ratio_, pca.explained_variance_ratio_.sum())"
      ],
      "execution_count": 27,
      "outputs": [
        {
          "output_type": "stream",
          "text": [
            "PCA 2 composants: [0.01110742 0.00801029] 0.019117708427688743\n"
          ],
          "name": "stdout"
        }
      ]
    },
    {
      "cell_type": "code",
      "metadata": {
        "id": "remxOHww678L",
        "colab": {
          "base_uri": "https://localhost:8080/",
          "height": 442
        },
        "outputId": "d3515e41-8f31-4ba3-9fef-6dbd9fa29ba2"
      },
      "source": [
        "# Iteration de clustering kmeans avec des nb de clusters différents\r\n",
        "silhouettes = []\r\n",
        "cluster_range = range(100, 500, 50)\r\n",
        "for n in cluster_range:\r\n",
        "    myclust = cluster.KMeans(n_clusters=n, random_state=1)\r\n",
        "    myclust.fit(X_scaled)\r\n",
        "    silhouettes.append(metrics.silhouette_score(X_scaled, myclust.labels_))\r\n",
        "\r\n",
        "best_cluster = cluster_range[np.argmax(silhouettes)]\r\n",
        "print('best clustering = ', best_cluster)\r\n",
        "\r\n",
        "fig = plt.figure(figsize=(10, 5))\r\n",
        "plt.plot(cluster_range, silhouettes, marker='o')"
      ],
      "execution_count": 29,
      "outputs": [
        {
          "output_type": "stream",
          "text": [
            "/usr/local/lib/python3.7/dist-packages/ipykernel_launcher.py:6: ConvergenceWarning: Number of distinct clusters (355) found smaller than n_clusters (400). Possibly due to duplicate points in X.\n",
            "  \n",
            "/usr/local/lib/python3.7/dist-packages/ipykernel_launcher.py:6: ConvergenceWarning: Number of distinct clusters (355) found smaller than n_clusters (450). Possibly due to duplicate points in X.\n",
            "  \n"
          ],
          "name": "stderr"
        },
        {
          "output_type": "stream",
          "text": [
            "best clustering =  300\n"
          ],
          "name": "stdout"
        },
        {
          "output_type": "execute_result",
          "data": {
            "text/plain": [
              "[<matplotlib.lines.Line2D at 0x7f1fd00c0510>]"
            ]
          },
          "metadata": {
            "tags": []
          },
          "execution_count": 29
        },
        {
          "output_type": "display_data",
          "data": {
            "image/png": "[encoded data removed]",
            "text/plain": [
              "<Figure size 720x360 with 1 Axes>"
            ]
          },
          "metadata": {
            "tags": [],
            "needs_background": "light"
          }
        }
      ]
    },
    {
      "cell_type": "code",
      "metadata": {
        "id": "NkxTfnTh_z5M",
        "colab": {
          "base_uri": "https://localhost:8080/"
        },
        "outputId": "b225ab67-624e-4fc1-f3d8-792be27dba4c"
      },
      "source": [
        "nb_clusters = best_cluster\r\n",
        "\r\n",
        "color = [\"#\"+''.join([random.choice('0123456789ABCDEF') for j in range(6)])\r\n",
        "        for i in range(nb_clusters)]\r\n",
        "\r\n",
        "# Clustering avec kmeans\r\n",
        "myclust = cluster.KMeans(n_clusters=nb_clusters)\r\n",
        "myclust.fit(X_scaled)\r\n",
        "\r\n",
        "# 3. Évaluation\r\n",
        "# Pour l’évaluation intrinsèque, je choisis le coefficient de silhouette :\r\n",
        "print(\"Silhouette Coefficient: %0.3f\" % metrics.silhouette_score(X, myclust.labels_))"
      ],
      "execution_count": 30,
      "outputs": [
        {
          "output_type": "stream",
          "text": [
            "Silhouette Coefficient: 0.972\n"
          ],
          "name": "stdout"
        }
      ]
    },
    {
      "cell_type": "code",
      "metadata": {
        "id": "XTAY_uZjCpne",
        "colab": {
          "base_uri": "https://localhost:8080/",
          "height": 129
        },
        "outputId": "19dfe532-8614-42f8-95ba-c852308af534"
      },
      "source": [
        "#Create a cluster label column in the original DataFrame\r\n",
        "y = myclust.labels_\r\n",
        "tfidf = dict_tfidf['df']['Title'].assign(cluster = y)\r\n",
        "tfidf.groupby(['cluster'])[['cluster']].count().T.reset_index(drop=True)"
      ],
      "execution_count": 31,
      "outputs": [
        {
          "output_type": "execute_result",
          "data": {
            "text/html": [
              "<div>\n",
              "<style scoped>\n",
              "    .dataframe tbody tr th:only-of-type {\n",
              "        vertical-align: middle;\n",
              "    }\n",
              "\n",
              "    .dataframe tbody tr th {\n",
              "        vertical-align: top;\n",
              "    }\n",
              "\n",
              "    .dataframe thead th {\n",
              "        text-align: right;\n",
              "    }\n",
              "</style>\n",
              "<table border=\"1\" class=\"dataframe\">\n",
              "  <thead>\n",
              "    <tr style=\"text-align: right;\">\n",
              "      <th>cluster</th>\n",
              "      <th>0</th>\n",
              "      <th>1</th>\n",
              "      <th>2</th>\n",
              "      <th>3</th>\n",
              "      <th>4</th>\n",
              "      <th>5</th>\n",
              "      <th>6</th>\n",
              "      <th>7</th>\n",
              "      <th>8</th>\n",
              "      <th>9</th>\n",
              "      <th>10</th>\n",
              "      <th>11</th>\n",
              "      <th>12</th>\n",
              "      <th>13</th>\n",
              "      <th>14</th>\n",
              "      <th>15</th>\n",
              "      <th>16</th>\n",
              "      <th>17</th>\n",
              "      <th>18</th>\n",
              "      <th>19</th>\n",
              "      <th>20</th>\n",
              "      <th>21</th>\n",
              "      <th>22</th>\n",
              "      <th>23</th>\n",
              "      <th>24</th>\n",
              "      <th>25</th>\n",
              "      <th>26</th>\n",
              "      <th>27</th>\n",
              "      <th>28</th>\n",
              "      <th>29</th>\n",
              "      <th>30</th>\n",
              "      <th>31</th>\n",
              "      <th>32</th>\n",
              "      <th>33</th>\n",
              "      <th>34</th>\n",
              "      <th>35</th>\n",
              "      <th>36</th>\n",
              "      <th>37</th>\n",
              "      <th>38</th>\n",
              "      <th>39</th>\n",
              "      <th>...</th>\n",
              "      <th>260</th>\n",
              "      <th>261</th>\n",
              "      <th>262</th>\n",
              "      <th>263</th>\n",
              "      <th>264</th>\n",
              "      <th>265</th>\n",
              "      <th>266</th>\n",
              "      <th>267</th>\n",
              "      <th>268</th>\n",
              "      <th>269</th>\n",
              "      <th>270</th>\n",
              "      <th>271</th>\n",
              "      <th>272</th>\n",
              "      <th>273</th>\n",
              "      <th>274</th>\n",
              "      <th>275</th>\n",
              "      <th>276</th>\n",
              "      <th>277</th>\n",
              "      <th>278</th>\n",
              "      <th>279</th>\n",
              "      <th>280</th>\n",
              "      <th>281</th>\n",
              "      <th>282</th>\n",
              "      <th>283</th>\n",
              "      <th>284</th>\n",
              "      <th>285</th>\n",
              "      <th>286</th>\n",
              "      <th>287</th>\n",
              "      <th>288</th>\n",
              "      <th>289</th>\n",
              "      <th>290</th>\n",
              "      <th>291</th>\n",
              "      <th>292</th>\n",
              "      <th>293</th>\n",
              "      <th>294</th>\n",
              "      <th>295</th>\n",
              "      <th>296</th>\n",
              "      <th>297</th>\n",
              "      <th>298</th>\n",
              "      <th>299</th>\n",
              "    </tr>\n",
              "  </thead>\n",
              "  <tbody>\n",
              "    <tr>\n",
              "      <th>0</th>\n",
              "      <td>8491</td>\n",
              "      <td>3</td>\n",
              "      <td>1</td>\n",
              "      <td>1</td>\n",
              "      <td>3</td>\n",
              "      <td>3</td>\n",
              "      <td>1</td>\n",
              "      <td>1</td>\n",
              "      <td>1</td>\n",
              "      <td>1</td>\n",
              "      <td>1</td>\n",
              "      <td>2</td>\n",
              "      <td>1</td>\n",
              "      <td>1</td>\n",
              "      <td>1</td>\n",
              "      <td>1</td>\n",
              "      <td>2</td>\n",
              "      <td>2</td>\n",
              "      <td>1</td>\n",
              "      <td>2</td>\n",
              "      <td>1</td>\n",
              "      <td>1</td>\n",
              "      <td>1</td>\n",
              "      <td>10</td>\n",
              "      <td>1</td>\n",
              "      <td>1</td>\n",
              "      <td>1</td>\n",
              "      <td>1</td>\n",
              "      <td>2</td>\n",
              "      <td>1</td>\n",
              "      <td>2</td>\n",
              "      <td>2</td>\n",
              "      <td>1</td>\n",
              "      <td>1</td>\n",
              "      <td>2</td>\n",
              "      <td>1</td>\n",
              "      <td>6</td>\n",
              "      <td>1</td>\n",
              "      <td>2</td>\n",
              "      <td>1</td>\n",
              "      <td>...</td>\n",
              "      <td>2</td>\n",
              "      <td>4</td>\n",
              "      <td>1</td>\n",
              "      <td>1</td>\n",
              "      <td>3</td>\n",
              "      <td>2</td>\n",
              "      <td>1</td>\n",
              "      <td>1</td>\n",
              "      <td>2</td>\n",
              "      <td>2</td>\n",
              "      <td>2</td>\n",
              "      <td>1</td>\n",
              "      <td>1</td>\n",
              "      <td>1</td>\n",
              "      <td>1</td>\n",
              "      <td>2</td>\n",
              "      <td>3</td>\n",
              "      <td>3</td>\n",
              "      <td>1</td>\n",
              "      <td>3</td>\n",
              "      <td>2</td>\n",
              "      <td>1</td>\n",
              "      <td>2</td>\n",
              "      <td>1</td>\n",
              "      <td>1</td>\n",
              "      <td>2</td>\n",
              "      <td>4</td>\n",
              "      <td>1</td>\n",
              "      <td>1</td>\n",
              "      <td>1</td>\n",
              "      <td>1</td>\n",
              "      <td>1</td>\n",
              "      <td>2</td>\n",
              "      <td>1</td>\n",
              "      <td>1</td>\n",
              "      <td>1</td>\n",
              "      <td>1</td>\n",
              "      <td>1</td>\n",
              "      <td>1</td>\n",
              "      <td>1</td>\n",
              "    </tr>\n",
              "  </tbody>\n",
              "</table>\n",
              "<p>1 rows × 300 columns</p>\n",
              "</div>"
            ],
            "text/plain": [
              "cluster   0    1    2    3    4    5    6    ...  293  294  295  296  297  298  299\n",
              "0        8491    3    1    1    3    3    1  ...    1    1    1    1    1    1    1\n",
              "\n",
              "[1 rows x 300 columns]"
            ]
          },
          "metadata": {
            "tags": []
          },
          "execution_count": 31
        }
      ]
    },
    {
      "cell_type": "code",
      "metadata": {
        "id": "OTJbyyINDdNK",
        "colab": {
          "base_uri": "https://localhost:8080/",
          "height": 359
        },
        "outputId": "383ef37d-dd18-45a3-8245-6c49a45929af"
      },
      "source": [
        "tfidf[tfidf.cluster == 23][['cluster']].merge(train[['Title', 'Body', 'Tags']], left_index=True, right_index=True)"
      ],
      "execution_count": 32,
      "outputs": [
        {
          "output_type": "execute_result",
          "data": {
            "text/html": [
              "<div>\n",
              "<style scoped>\n",
              "    .dataframe tbody tr th:only-of-type {\n",
              "        vertical-align: middle;\n",
              "    }\n",
              "\n",
              "    .dataframe tbody tr th {\n",
              "        vertical-align: top;\n",
              "    }\n",
              "\n",
              "    .dataframe thead th {\n",
              "        text-align: right;\n",
              "    }\n",
              "</style>\n",
              "<table border=\"1\" class=\"dataframe\">\n",
              "  <thead>\n",
              "    <tr style=\"text-align: right;\">\n",
              "      <th></th>\n",
              "      <th>cluster</th>\n",
              "      <th>Title</th>\n",
              "      <th>Body</th>\n",
              "      <th>Tags</th>\n",
              "    </tr>\n",
              "  </thead>\n",
              "  <tbody>\n",
              "    <tr>\n",
              "      <th>186237</th>\n",
              "      <td>23</td>\n",
              "      <td>program crash releas build debug</td>\n",
              "      <td>cat type problem program test suit program pro...</td>\n",
              "      <td>c++ debugging</td>\n",
              "    </tr>\n",
              "    <tr>\n",
              "      <th>2422949</th>\n",
              "      <td>23</td>\n",
              "      <td>implic gener list list</td>\n",
              "      <td>dao contain class gener us arraylist store obj...</td>\n",
              "      <td>arraylist generic-list generics java</td>\n",
              "    </tr>\n",
              "    <tr>\n",
              "      <th>220824</th>\n",
              "      <td>23</td>\n",
              "      <td>root mysteri charact problem wordpress blog</td>\n",
              "      <td>start wordpress blog charact browser other quo...</td>\n",
              "      <td>encoding utf-8 wordpress</td>\n",
              "    </tr>\n",
              "    <tr>\n",
              "      <th>2958817</th>\n",
              "      <td>23</td>\n",
              "      <td>cannot access object within method custom jsp ...</td>\n",
              "      <td>custom jsp tag everyth fine except fact reques...</td>\n",
              "      <td>custom-tags java jsp</td>\n",
              "    </tr>\n",
              "    <tr>\n",
              "      <th>2155065</th>\n",
              "      <td>23</td>\n",
              "      <td>forc exit one depend fail</td>\n",
              "      <td>relev bit makefil makefil compil error debugos...</td>\n",
              "      <td>gcc gnu-make makefile</td>\n",
              "    </tr>\n",
              "    <tr>\n",
              "      <th>1455059</th>\n",
              "      <td>23</td>\n",
              "      <td>item level secur sharepoint webservic</td>\n",
              "      <td>permiss list site permiss paramet accept eithe...</td>\n",
              "      <td>permissions sharepoint sharepoint-2007</td>\n",
              "    </tr>\n",
              "    <tr>\n",
              "      <th>10006</th>\n",
              "      <td>23</td>\n",
              "      <td>compress wcf silverlight</td>\n",
              "      <td>silverlight beta applic access wcf web servic ...</td>\n",
              "      <td>compression gzip silverlight wcf</td>\n",
              "    </tr>\n",
              "    <tr>\n",
              "      <th>971586</th>\n",
              "      <td>23</td>\n",
              "      <td>asp net method found</td>\n",
              "      <td>problem product server cannot two strang thing...</td>\n",
              "      <td>asp.net constructor exception vb.net</td>\n",
              "    </tr>\n",
              "    <tr>\n",
              "      <th>602991</th>\n",
              "      <td>23</td>\n",
              "      <td>scope mean exist</td>\n",
              "      <td>sure understand scope out-of scope rubi exist ...</td>\n",
              "      <td>ruby scope variables</td>\n",
              "    </tr>\n",
              "    <tr>\n",
              "      <th>331717</th>\n",
              "      <td>23</td>\n",
              "      <td>compon password joomla</td>\n",
              "      <td>chang default behavior joomla password mechan ...</td>\n",
              "      <td>joomla php</td>\n",
              "    </tr>\n",
              "  </tbody>\n",
              "</table>\n",
              "</div>"
            ],
            "text/plain": [
              "         cluster  ...                                    Tags\n",
              "186237        23  ...                           c++ debugging\n",
              "2422949       23  ...    arraylist generic-list generics java\n",
              "220824        23  ...                encoding utf-8 wordpress\n",
              "2958817       23  ...                    custom-tags java jsp\n",
              "2155065       23  ...                   gcc gnu-make makefile\n",
              "1455059       23  ...  permissions sharepoint sharepoint-2007\n",
              "10006         23  ...        compression gzip silverlight wcf\n",
              "971586        23  ...    asp.net constructor exception vb.net\n",
              "602991        23  ...                    ruby scope variables\n",
              "331717        23  ...                              joomla php\n",
              "\n",
              "[10 rows x 4 columns]"
            ]
          },
          "metadata": {
            "tags": []
          },
          "execution_count": 32
        }
      ]
    },
    {
      "cell_type": "markdown",
      "metadata": {
        "id": "ke9UDjfmIncb"
      },
      "source": [
        "# Classification supervisée"
      ]
    },
    {
      "cell_type": "code",
      "metadata": {
        "id": "xWk88kro3ByI"
      },
      "source": [
        "DICT_CLF = {'knn': {'name': 'k-Nearest Neighbors',\r\n",
        "                     'clf': KNeighborsClassifier(),\r\n",
        "                     'params': {'n_neighbors': np.arange(100, 700, 50)}},\r\n",
        "            'svm': {'name': 'Support Vector Machine',\r\n",
        "                     'clf': LinearSVC(dual=False, multi_class='ovr') ,\r\n",
        "                     'params': {'C': np.logspace(-3, 3, 7),\r\n",
        "                                'loss': ['hinge','squared_hinge'],\r\n",
        "                                'penalty': ['l1', 'l2']}},\r\n",
        "            'rfc': {'name': 'Random Forrest',\r\n",
        "                     'clf': RandomForestClassifier(),\r\n",
        "                     'params': {'criterion': ['entropy', 'gini'],\r\n",
        "                                'n_estimators': [20, 40, 60, 80, 100],\r\n",
        "                                'max_features':['sqrt', 'log2']}}\r\n",
        "            }"
      ],
      "execution_count": 35,
      "outputs": []
    },
    {
      "cell_type": "markdown",
      "metadata": {
        "id": "-maZp1HHKLX8"
      },
      "source": [
        "## Title"
      ]
    },
    {
      "cell_type": "code",
      "metadata": {
        "id": "vuFwu_zTPB5u",
        "colab": {
          "base_uri": "https://localhost:8080/"
        },
        "outputId": "0e2fc34f-d6be-42a3-c847-add09bc0c5ac"
      },
      "source": [
        "train.shape"
      ],
      "execution_count": null,
      "outputs": [
        {
          "output_type": "execute_result",
          "data": {
            "text/plain": [
              "(5512, 5)"
            ]
          },
          "metadata": {
            "tags": []
          },
          "execution_count": 20
        }
      ]
    },
    {
      "cell_type": "code",
      "metadata": {
        "id": "9CFtm7zZT6vH",
        "colab": {
          "base_uri": "https://localhost:8080/"
        },
        "outputId": "c5f249f0-e806-4bca-e561-a563c5c096bd"
      },
      "source": [
        "col = 'Title'\r\n",
        "\r\n",
        "y = train.Tags_lbl\r\n",
        "X = train[col]\r\n",
        "X_train, X_test, y_train, y_test = train_test_split(dict_tfidf[col]['vector'].\\\r\n",
        "                                                    transform(X), y, \\\r\n",
        "                                                    test_size=0.3)\r\n",
        "\r\n",
        "std_scale = preprocessing.StandardScaler(with_mean=False).fit(X_train)\r\n",
        "X_train_scaled = std_scale.transform(X_train)\r\n",
        "X_test_scaled = std_scale.transform(X_test)\r\n",
        "X_train_scaled.shape, X_test_scaled.shape"
      ],
      "execution_count": null,
      "outputs": [
        {
          "output_type": "execute_result",
          "data": {
            "text/plain": [
              "((3858, 300), (1654, 300))"
            ]
          },
          "metadata": {
            "tags": []
          },
          "execution_count": 21
        }
      ]
    },
    {
      "cell_type": "code",
      "metadata": {
        "colab": {
          "base_uri": "https://localhost:8080/"
        },
        "id": "EeOWofcSKw3D",
        "outputId": "a3bc7ba4-905f-4b01-9df5-819c6790c5b0"
      },
      "source": [
        "dict_precision = {}\r\n",
        "\r\n",
        "for k, v in DICT_CLF.items():\r\n",
        "    print('{}\\n{}\\n{}'.format('='*30, v['name'], '-'*30))\r\n",
        "    dict_precision[v['name']] = {}\r\n",
        "\r\n",
        "    clf = v['clf']\r\n",
        "    start_time = timeit.default_timer()\r\n",
        "    gs = GridSearchCV(clf, v['params'], cv=5, scoring = 'accuracy',n_jobs=-1)\r\n",
        "    gs.fit(X_train_scaled, y_train)\r\n",
        "    print(\"Best params:\", gs.best_params_, '\\n')\r\n",
        "    dict_precision[v['name']]['clf'] = gs\r\n",
        "\r\n",
        "    y_pred = gs.predict(X_test_scaled)\r\n",
        "    precision = 100*metrics.accuracy_score(y_test, y_pred).round(2)\r\n",
        "    dict_precision[v['name']]['precision'] = precision\r\n",
        "    print(\"Precision: {:.2f} % \\n\".format(precision))\r\n",
        "\r\n",
        "    elapsed = timeit.default_timer() - start_time\r\n",
        "\r\n",
        "    accuracy = 100*metrics.accuracy_score(y_test, y_pred).round(2)\r\n",
        "    print(col, \": accuracy {:.2f}% time {:.2f}s\\n\".format(accuracy, elapsed))"
      ],
      "execution_count": null,
      "outputs": [
        {
          "output_type": "stream",
          "text": [
            "==============================\n",
            "k-Nearest Neighbors\n",
            "------------------------------\n"
          ],
          "name": "stdout"
        },
        {
          "output_type": "stream",
          "text": [
            "/usr/local/lib/python3.7/dist-packages/sklearn/model_selection/_split.py:667: UserWarning: The least populated class in y has only 1 members, which is less than n_splits=5.\n",
            "  % (min_groups, self.n_splits)), UserWarning)\n"
          ],
          "name": "stderr"
        },
        {
          "output_type": "stream",
          "text": [
            "Best params: {'n_neighbors': 200} \n",
            "\n",
            "Precision: 22.00 % \n",
            "\n",
            "Title : accuracy 22.00% time 6.93s\n",
            "\n"
          ],
          "name": "stdout"
        }
      ]
    },
    {
      "cell_type": "code",
      "metadata": {
        "id": "sLDdzf_TSnji",
        "colab": {
          "base_uri": "https://localhost:8080/"
        },
        "outputId": "7cf2a279-0436-40a8-c82a-6c2faedad0f6"
      },
      "source": [
        "gs = RandomForestClassifier()\r\n",
        "\r\n",
        "start_time = timeit.default_timer()\r\n",
        "\r\n",
        "gs.fit(X_train_scaled, y_train)\r\n",
        "y_pred = gs.predict(X_test_scaled)\r\n",
        "\r\n",
        "elapsed = timeit.default_timer() - start_time\r\n",
        "\r\n",
        "accuracy = 100*metrics.accuracy_score(y_test, y_pred).round(2)\r\n",
        "print(col, \"accuracy {:.2f}% time {:.2f}s\\n\".format(accuracy, elapsed))"
      ],
      "execution_count": null,
      "outputs": [
        {
          "output_type": "stream",
          "text": [
            "Title accuracy 41.00% time 11.21s\n",
            "\n"
          ],
          "name": "stdout"
        }
      ]
    },
    {
      "cell_type": "markdown",
      "metadata": {
        "id": "dG-5kC0NKS1Y"
      },
      "source": [
        "## Title + Body"
      ]
    },
    {
      "cell_type": "code",
      "metadata": {
        "id": "X6YxCDq5PZHS",
        "colab": {
          "base_uri": "https://localhost:8080/"
        },
        "outputId": "4d78dadb-e5a4-4164-dcc0-5d8da7ff4c4c"
      },
      "source": [
        "X = (RATIO * dict_tfidf['df']['Title']).add((1 - RATIO) * dict_tfidf['df']['Body'], \\\r\n",
        "                                            fill_value=0).fillna(0)\r\n",
        "y = train.Tags_lbl\r\n",
        "X_train, X_test, y_train, y_test = train_test_split(X, y, \\\r\n",
        "                                                    test_size=0.3)\r\n",
        "\r\n",
        "std_scale = preprocessing.StandardScaler(with_mean=False).fit(X_train)\r\n",
        "X_train_scaled = std_scale.transform(X_train)\r\n",
        "X_test_scaled = std_scale.transform(X_test)\r\n",
        "X_train_scaled.shape, X_test_scaled.shape"
      ],
      "execution_count": 33,
      "outputs": [
        {
          "output_type": "execute_result",
          "data": {
            "text/plain": [
              "((7000, 180), (3000, 180))"
            ]
          },
          "metadata": {
            "tags": []
          },
          "execution_count": 33
        }
      ]
    },
    {
      "cell_type": "code",
      "metadata": {
        "id": "z6sS22yzdpWo",
        "outputId": "5581b43b-bb99-4d1c-9e7e-267ad450d883",
        "colab": {
          "base_uri": "https://localhost:8080/",
          "height": 650
        }
      },
      "source": [
        "dict_precision = {}\r\n",
        "\r\n",
        "for k, v in DICT_CLF.items():\r\n",
        "    print('{}\\n{}\\n{}'.format('='*30, v['name'], '-'*30))\r\n",
        "    dict_precision[v['name']] = {}\r\n",
        "\r\n",
        "    clf = v['clf']\r\n",
        "    gs = GridSearchCV(clf, v['params'], cv=5, scoring='accuracy',n_jobs=-1)\r\n",
        "    gs.fit(X_train_scaled, y_train)\r\n",
        "    print(\"Best params:\", gs.best_params_, '\\n')\r\n",
        "    dict_precision[v['name']]['clf'] = gs\r\n",
        "\r\n",
        "    y_pred = gs.predict(X_test_scaled)\r\n",
        "    precision = 100*metrics.accuracy_score(y_test, y_pred).round(2)\r\n",
        "    dict_precision[v['name']]['precision'] = precision\r\n",
        "    print(\"Precision: {:.2f} % \\n\".format(precision))\r\n",
        "\r\n",
        "    \"\"\"\r\n",
        "    np.set_printoptions(precision=2)\r\n",
        "\r\n",
        "    # Plot non-normalized confusion matrix\r\n",
        "    titles_options = [(\"Confusion matrix, without normalization\", None),\r\n",
        "                      (\"Normalized confusion matrix\", 'true')]\r\n",
        "    for title, normalize in titles_options:\r\n",
        "        disp = metrics.plot_confusion_matrix(gs, X_test_scaled, y_test,\r\n",
        "                                             # display_labels=class_names,\r\n",
        "                                             cmap=plt.cm.Blues, \\\r\n",
        "                                             normalize=normalize)\r\n",
        "        disp.ax_.set_title(title)\r\n",
        "\r\n",
        "        print(title)\r\n",
        "        print(disp.confusion_matrix)\r\n",
        "    plt.show()\r\n",
        "    \"\"\"\r\n",
        "    print()"
      ],
      "execution_count": 36,
      "outputs": [
        {
          "output_type": "stream",
          "text": [
            "==============================\n",
            "k-Nearest Neighbors\n",
            "------------------------------\n"
          ],
          "name": "stdout"
        },
        {
          "output_type": "stream",
          "text": [
            "/usr/local/lib/python3.7/dist-packages/sklearn/model_selection/_split.py:667: UserWarning: The least populated class in y has only 1 members, which is less than n_splits=5.\n",
            "  % (min_groups, self.n_splits)), UserWarning)\n"
          ],
          "name": "stderr"
        },
        {
          "output_type": "stream",
          "text": [
            "Best params: {'n_neighbors': 550} \n",
            "\n",
            "Precision: 1.00 % \n",
            "\n",
            "\n",
            "==============================\n",
            "Support Vector Machine\n",
            "------------------------------\n"
          ],
          "name": "stdout"
        },
        {
          "output_type": "stream",
          "text": [
            "/usr/local/lib/python3.7/dist-packages/sklearn/model_selection/_split.py:667: UserWarning: The least populated class in y has only 1 members, which is less than n_splits=5.\n",
            "  % (min_groups, self.n_splits)), UserWarning)\n"
          ],
          "name": "stderr"
        },
        {
          "output_type": "error",
          "ename": "KeyboardInterrupt",
          "evalue": "ignored",
          "traceback": [
            "\u001b[0;31m---------------------------------------------------------------------------\u001b[0m",
            "\u001b[0;31mKeyboardInterrupt\u001b[0m                         Traceback (most recent call last)",
            "\u001b[0;32m<ipython-input-36-338b88aa43e6>\u001b[0m in \u001b[0;36m<module>\u001b[0;34m()\u001b[0m\n\u001b[1;32m      7\u001b[0m     \u001b[0mclf\u001b[0m \u001b[0;34m=\u001b[0m \u001b[0mv\u001b[0m\u001b[0;34m[\u001b[0m\u001b[0;34m'clf'\u001b[0m\u001b[0;34m]\u001b[0m\u001b[0;34m\u001b[0m\u001b[0;34m\u001b[0m\u001b[0m\n\u001b[1;32m      8\u001b[0m     \u001b[0mgs\u001b[0m \u001b[0;34m=\u001b[0m \u001b[0mGridSearchCV\u001b[0m\u001b[0;34m(\u001b[0m\u001b[0mclf\u001b[0m\u001b[0;34m,\u001b[0m \u001b[0mv\u001b[0m\u001b[0;34m[\u001b[0m\u001b[0;34m'params'\u001b[0m\u001b[0;34m]\u001b[0m\u001b[0;34m,\u001b[0m \u001b[0mcv\u001b[0m\u001b[0;34m=\u001b[0m\u001b[0;36m5\u001b[0m\u001b[0;34m,\u001b[0m \u001b[0mscoring\u001b[0m\u001b[0;34m=\u001b[0m\u001b[0;34m'accuracy'\u001b[0m\u001b[0;34m,\u001b[0m\u001b[0mn_jobs\u001b[0m\u001b[0;34m=\u001b[0m\u001b[0;34m-\u001b[0m\u001b[0;36m1\u001b[0m\u001b[0;34m)\u001b[0m\u001b[0;34m\u001b[0m\u001b[0;34m\u001b[0m\u001b[0m\n\u001b[0;32m----> 9\u001b[0;31m     \u001b[0mgs\u001b[0m\u001b[0;34m.\u001b[0m\u001b[0mfit\u001b[0m\u001b[0;34m(\u001b[0m\u001b[0mX_train_scaled\u001b[0m\u001b[0;34m,\u001b[0m \u001b[0my_train\u001b[0m\u001b[0;34m)\u001b[0m\u001b[0;34m\u001b[0m\u001b[0;34m\u001b[0m\u001b[0m\n\u001b[0m\u001b[1;32m     10\u001b[0m     \u001b[0mprint\u001b[0m\u001b[0;34m(\u001b[0m\u001b[0;34m\"Best params:\"\u001b[0m\u001b[0;34m,\u001b[0m \u001b[0mgs\u001b[0m\u001b[0;34m.\u001b[0m\u001b[0mbest_params_\u001b[0m\u001b[0;34m,\u001b[0m \u001b[0;34m'\\n'\u001b[0m\u001b[0;34m)\u001b[0m\u001b[0;34m\u001b[0m\u001b[0;34m\u001b[0m\u001b[0m\n\u001b[1;32m     11\u001b[0m     \u001b[0mdict_precision\u001b[0m\u001b[0;34m[\u001b[0m\u001b[0mv\u001b[0m\u001b[0;34m[\u001b[0m\u001b[0;34m'name'\u001b[0m\u001b[0;34m]\u001b[0m\u001b[0;34m]\u001b[0m\u001b[0;34m[\u001b[0m\u001b[0;34m'clf'\u001b[0m\u001b[0;34m]\u001b[0m \u001b[0;34m=\u001b[0m \u001b[0mgs\u001b[0m\u001b[0;34m\u001b[0m\u001b[0;34m\u001b[0m\u001b[0m\n",
            "\u001b[0;32m/usr/local/lib/python3.7/dist-packages/sklearn/model_selection/_search.py\u001b[0m in \u001b[0;36mfit\u001b[0;34m(self, X, y, groups, **fit_params)\u001b[0m\n\u001b[1;32m    708\u001b[0m                 \u001b[0;32mreturn\u001b[0m \u001b[0mresults\u001b[0m\u001b[0;34m\u001b[0m\u001b[0;34m\u001b[0m\u001b[0m\n\u001b[1;32m    709\u001b[0m \u001b[0;34m\u001b[0m\u001b[0m\n\u001b[0;32m--> 710\u001b[0;31m             \u001b[0mself\u001b[0m\u001b[0;34m.\u001b[0m\u001b[0m_run_search\u001b[0m\u001b[0;34m(\u001b[0m\u001b[0mevaluate_candidates\u001b[0m\u001b[0;34m)\u001b[0m\u001b[0;34m\u001b[0m\u001b[0;34m\u001b[0m\u001b[0m\n\u001b[0m\u001b[1;32m    711\u001b[0m \u001b[0;34m\u001b[0m\u001b[0m\n\u001b[1;32m    712\u001b[0m         \u001b[0;31m# For multi-metric evaluation, store the best_index_, best_params_ and\u001b[0m\u001b[0;34m\u001b[0m\u001b[0;34m\u001b[0m\u001b[0;34m\u001b[0m\u001b[0m\n",
            "\u001b[0;32m/usr/local/lib/python3.7/dist-packages/sklearn/model_selection/_search.py\u001b[0m in \u001b[0;36m_run_search\u001b[0;34m(self, evaluate_candidates)\u001b[0m\n\u001b[1;32m   1149\u001b[0m     \u001b[0;32mdef\u001b[0m \u001b[0m_run_search\u001b[0m\u001b[0;34m(\u001b[0m\u001b[0mself\u001b[0m\u001b[0;34m,\u001b[0m \u001b[0mevaluate_candidates\u001b[0m\u001b[0;34m)\u001b[0m\u001b[0;34m:\u001b[0m\u001b[0;34m\u001b[0m\u001b[0;34m\u001b[0m\u001b[0m\n\u001b[1;32m   1150\u001b[0m         \u001b[0;34m\"\"\"Search all candidates in param_grid\"\"\"\u001b[0m\u001b[0;34m\u001b[0m\u001b[0;34m\u001b[0m\u001b[0m\n\u001b[0;32m-> 1151\u001b[0;31m         \u001b[0mevaluate_candidates\u001b[0m\u001b[0;34m(\u001b[0m\u001b[0mParameterGrid\u001b[0m\u001b[0;34m(\u001b[0m\u001b[0mself\u001b[0m\u001b[0;34m.\u001b[0m\u001b[0mparam_grid\u001b[0m\u001b[0;34m)\u001b[0m\u001b[0;34m)\u001b[0m\u001b[0;34m\u001b[0m\u001b[0;34m\u001b[0m\u001b[0m\n\u001b[0m\u001b[1;32m   1152\u001b[0m \u001b[0;34m\u001b[0m\u001b[0m\n\u001b[1;32m   1153\u001b[0m \u001b[0;34m\u001b[0m\u001b[0m\n",
            "\u001b[0;32m/usr/local/lib/python3.7/dist-packages/sklearn/model_selection/_search.py\u001b[0m in \u001b[0;36mevaluate_candidates\u001b[0;34m(candidate_params)\u001b[0m\n\u001b[1;32m    687\u001b[0m                                \u001b[0;32mfor\u001b[0m \u001b[0mparameters\u001b[0m\u001b[0;34m,\u001b[0m \u001b[0;34m(\u001b[0m\u001b[0mtrain\u001b[0m\u001b[0;34m,\u001b[0m \u001b[0mtest\u001b[0m\u001b[0;34m)\u001b[0m\u001b[0;34m\u001b[0m\u001b[0;34m\u001b[0m\u001b[0m\n\u001b[1;32m    688\u001b[0m                                in product(candidate_params,\n\u001b[0;32m--> 689\u001b[0;31m                                           cv.split(X, y, groups)))\n\u001b[0m\u001b[1;32m    690\u001b[0m \u001b[0;34m\u001b[0m\u001b[0m\n\u001b[1;32m    691\u001b[0m                 \u001b[0;32mif\u001b[0m \u001b[0mlen\u001b[0m\u001b[0;34m(\u001b[0m\u001b[0mout\u001b[0m\u001b[0;34m)\u001b[0m \u001b[0;34m<\u001b[0m \u001b[0;36m1\u001b[0m\u001b[0;34m:\u001b[0m\u001b[0;34m\u001b[0m\u001b[0;34m\u001b[0m\u001b[0m\n",
            "\u001b[0;32m/usr/local/lib/python3.7/dist-packages/joblib/parallel.py\u001b[0m in \u001b[0;36m__call__\u001b[0;34m(self, iterable)\u001b[0m\n\u001b[1;32m   1052\u001b[0m \u001b[0;34m\u001b[0m\u001b[0m\n\u001b[1;32m   1053\u001b[0m             \u001b[0;32mwith\u001b[0m \u001b[0mself\u001b[0m\u001b[0;34m.\u001b[0m\u001b[0m_backend\u001b[0m\u001b[0;34m.\u001b[0m\u001b[0mretrieval_context\u001b[0m\u001b[0;34m(\u001b[0m\u001b[0;34m)\u001b[0m\u001b[0;34m:\u001b[0m\u001b[0;34m\u001b[0m\u001b[0;34m\u001b[0m\u001b[0m\n\u001b[0;32m-> 1054\u001b[0;31m                 \u001b[0mself\u001b[0m\u001b[0;34m.\u001b[0m\u001b[0mretrieve\u001b[0m\u001b[0;34m(\u001b[0m\u001b[0;34m)\u001b[0m\u001b[0;34m\u001b[0m\u001b[0;34m\u001b[0m\u001b[0m\n\u001b[0m\u001b[1;32m   1055\u001b[0m             \u001b[0;31m# Make sure that we get a last message telling us we are done\u001b[0m\u001b[0;34m\u001b[0m\u001b[0;34m\u001b[0m\u001b[0;34m\u001b[0m\u001b[0m\n\u001b[1;32m   1056\u001b[0m             \u001b[0melapsed_time\u001b[0m \u001b[0;34m=\u001b[0m \u001b[0mtime\u001b[0m\u001b[0;34m.\u001b[0m\u001b[0mtime\u001b[0m\u001b[0;34m(\u001b[0m\u001b[0;34m)\u001b[0m \u001b[0;34m-\u001b[0m \u001b[0mself\u001b[0m\u001b[0;34m.\u001b[0m\u001b[0m_start_time\u001b[0m\u001b[0;34m\u001b[0m\u001b[0;34m\u001b[0m\u001b[0m\n",
            "\u001b[0;32m/usr/local/lib/python3.7/dist-packages/joblib/parallel.py\u001b[0m in \u001b[0;36mretrieve\u001b[0;34m(self)\u001b[0m\n\u001b[1;32m    931\u001b[0m             \u001b[0;32mtry\u001b[0m\u001b[0;34m:\u001b[0m\u001b[0;34m\u001b[0m\u001b[0;34m\u001b[0m\u001b[0m\n\u001b[1;32m    932\u001b[0m                 \u001b[0;32mif\u001b[0m \u001b[0mgetattr\u001b[0m\u001b[0;34m(\u001b[0m\u001b[0mself\u001b[0m\u001b[0;34m.\u001b[0m\u001b[0m_backend\u001b[0m\u001b[0;34m,\u001b[0m \u001b[0;34m'supports_timeout'\u001b[0m\u001b[0;34m,\u001b[0m \u001b[0;32mFalse\u001b[0m\u001b[0;34m)\u001b[0m\u001b[0;34m:\u001b[0m\u001b[0;34m\u001b[0m\u001b[0;34m\u001b[0m\u001b[0m\n\u001b[0;32m--> 933\u001b[0;31m                     \u001b[0mself\u001b[0m\u001b[0;34m.\u001b[0m\u001b[0m_output\u001b[0m\u001b[0;34m.\u001b[0m\u001b[0mextend\u001b[0m\u001b[0;34m(\u001b[0m\u001b[0mjob\u001b[0m\u001b[0;34m.\u001b[0m\u001b[0mget\u001b[0m\u001b[0;34m(\u001b[0m\u001b[0mtimeout\u001b[0m\u001b[0;34m=\u001b[0m\u001b[0mself\u001b[0m\u001b[0;34m.\u001b[0m\u001b[0mtimeout\u001b[0m\u001b[0;34m)\u001b[0m\u001b[0;34m)\u001b[0m\u001b[0;34m\u001b[0m\u001b[0;34m\u001b[0m\u001b[0m\n\u001b[0m\u001b[1;32m    934\u001b[0m                 \u001b[0;32melse\u001b[0m\u001b[0;34m:\u001b[0m\u001b[0;34m\u001b[0m\u001b[0;34m\u001b[0m\u001b[0m\n\u001b[1;32m    935\u001b[0m                     \u001b[0mself\u001b[0m\u001b[0;34m.\u001b[0m\u001b[0m_output\u001b[0m\u001b[0;34m.\u001b[0m\u001b[0mextend\u001b[0m\u001b[0;34m(\u001b[0m\u001b[0mjob\u001b[0m\u001b[0;34m.\u001b[0m\u001b[0mget\u001b[0m\u001b[0;34m(\u001b[0m\u001b[0;34m)\u001b[0m\u001b[0;34m)\u001b[0m\u001b[0;34m\u001b[0m\u001b[0;34m\u001b[0m\u001b[0m\n",
            "\u001b[0;32m/usr/local/lib/python3.7/dist-packages/joblib/_parallel_backends.py\u001b[0m in \u001b[0;36mwrap_future_result\u001b[0;34m(future, timeout)\u001b[0m\n\u001b[1;32m    540\u001b[0m         AsyncResults.get from multiprocessing.\"\"\"\n\u001b[1;32m    541\u001b[0m         \u001b[0;32mtry\u001b[0m\u001b[0;34m:\u001b[0m\u001b[0;34m\u001b[0m\u001b[0;34m\u001b[0m\u001b[0m\n\u001b[0;32m--> 542\u001b[0;31m             \u001b[0;32mreturn\u001b[0m \u001b[0mfuture\u001b[0m\u001b[0;34m.\u001b[0m\u001b[0mresult\u001b[0m\u001b[0;34m(\u001b[0m\u001b[0mtimeout\u001b[0m\u001b[0;34m=\u001b[0m\u001b[0mtimeout\u001b[0m\u001b[0;34m)\u001b[0m\u001b[0;34m\u001b[0m\u001b[0;34m\u001b[0m\u001b[0m\n\u001b[0m\u001b[1;32m    543\u001b[0m         \u001b[0;32mexcept\u001b[0m \u001b[0mCfTimeoutError\u001b[0m \u001b[0;32mas\u001b[0m \u001b[0me\u001b[0m\u001b[0;34m:\u001b[0m\u001b[0;34m\u001b[0m\u001b[0;34m\u001b[0m\u001b[0m\n\u001b[1;32m    544\u001b[0m             \u001b[0;32mraise\u001b[0m \u001b[0mTimeoutError\u001b[0m \u001b[0;32mfrom\u001b[0m \u001b[0me\u001b[0m\u001b[0;34m\u001b[0m\u001b[0;34m\u001b[0m\u001b[0m\n",
            "\u001b[0;32m/usr/lib/python3.7/concurrent/futures/_base.py\u001b[0m in \u001b[0;36mresult\u001b[0;34m(self, timeout)\u001b[0m\n\u001b[1;32m    428\u001b[0m                 \u001b[0;32mreturn\u001b[0m \u001b[0mself\u001b[0m\u001b[0;34m.\u001b[0m\u001b[0m__get_result\u001b[0m\u001b[0;34m(\u001b[0m\u001b[0;34m)\u001b[0m\u001b[0;34m\u001b[0m\u001b[0;34m\u001b[0m\u001b[0m\n\u001b[1;32m    429\u001b[0m \u001b[0;34m\u001b[0m\u001b[0m\n\u001b[0;32m--> 430\u001b[0;31m             \u001b[0mself\u001b[0m\u001b[0;34m.\u001b[0m\u001b[0m_condition\u001b[0m\u001b[0;34m.\u001b[0m\u001b[0mwait\u001b[0m\u001b[0;34m(\u001b[0m\u001b[0mtimeout\u001b[0m\u001b[0;34m)\u001b[0m\u001b[0;34m\u001b[0m\u001b[0;34m\u001b[0m\u001b[0m\n\u001b[0m\u001b[1;32m    431\u001b[0m \u001b[0;34m\u001b[0m\u001b[0m\n\u001b[1;32m    432\u001b[0m             \u001b[0;32mif\u001b[0m \u001b[0mself\u001b[0m\u001b[0;34m.\u001b[0m\u001b[0m_state\u001b[0m \u001b[0;32min\u001b[0m \u001b[0;34m[\u001b[0m\u001b[0mCANCELLED\u001b[0m\u001b[0;34m,\u001b[0m \u001b[0mCANCELLED_AND_NOTIFIED\u001b[0m\u001b[0;34m]\u001b[0m\u001b[0;34m:\u001b[0m\u001b[0;34m\u001b[0m\u001b[0;34m\u001b[0m\u001b[0m\n",
            "\u001b[0;32m/usr/lib/python3.7/threading.py\u001b[0m in \u001b[0;36mwait\u001b[0;34m(self, timeout)\u001b[0m\n\u001b[1;32m    294\u001b[0m         \u001b[0;32mtry\u001b[0m\u001b[0;34m:\u001b[0m    \u001b[0;31m# restore state no matter what (e.g., KeyboardInterrupt)\u001b[0m\u001b[0;34m\u001b[0m\u001b[0;34m\u001b[0m\u001b[0m\n\u001b[1;32m    295\u001b[0m             \u001b[0;32mif\u001b[0m \u001b[0mtimeout\u001b[0m \u001b[0;32mis\u001b[0m \u001b[0;32mNone\u001b[0m\u001b[0;34m:\u001b[0m\u001b[0;34m\u001b[0m\u001b[0;34m\u001b[0m\u001b[0m\n\u001b[0;32m--> 296\u001b[0;31m                 \u001b[0mwaiter\u001b[0m\u001b[0;34m.\u001b[0m\u001b[0macquire\u001b[0m\u001b[0;34m(\u001b[0m\u001b[0;34m)\u001b[0m\u001b[0;34m\u001b[0m\u001b[0;34m\u001b[0m\u001b[0m\n\u001b[0m\u001b[1;32m    297\u001b[0m                 \u001b[0mgotit\u001b[0m \u001b[0;34m=\u001b[0m \u001b[0;32mTrue\u001b[0m\u001b[0;34m\u001b[0m\u001b[0;34m\u001b[0m\u001b[0m\n\u001b[1;32m    298\u001b[0m             \u001b[0;32melse\u001b[0m\u001b[0;34m:\u001b[0m\u001b[0;34m\u001b[0m\u001b[0;34m\u001b[0m\u001b[0m\n",
            "\u001b[0;31mKeyboardInterrupt\u001b[0m: "
          ]
        }
      ]
    },
    {
      "cell_type": "markdown",
      "metadata": {
        "id": "4cUz1jIOJW8_"
      },
      "source": [
        "# LDA"
      ]
    },
    {
      "cell_type": "code",
      "metadata": {
        "id": "g-rvHx9KGPvW"
      },
      "source": [
        "vectorizer = CountVectorizer(analyzer='word',       \r\n",
        "                             min_df=10,                        # minimum reqd occurences of a word \r\n",
        "                             stop_words='english',             # remove stop words\r\n",
        "                             lowercase=True,                   # convert all words to lowercase\r\n",
        "                             token_pattern=REGEX,  \r\n",
        "                             # max_features=50000,             # max number of uniq words\r\n",
        "                            )\r\n",
        "\r\n",
        "data_vectorized = vectorizer.fit_transform(train.Title)\r\n",
        "data_vectorized.shape"
      ],
      "execution_count": null,
      "outputs": []
    },
    {
      "cell_type": "code",
      "metadata": {
        "id": "EpiEnsfcHJzo"
      },
      "source": [
        "#instantiate CountVectorizer() \r\n",
        "cv = CountVectorizer()\r\n",
        " \r\n",
        "# this steps generates word counts for the words in your docs \r\n",
        "TF = cv.fit_transform(train.Title, train.Body)"
      ],
      "execution_count": 45,
      "outputs": []
    },
    {
      "cell_type": "code",
      "metadata": {
        "id": "RRIfqXPul44N",
        "outputId": "8d105420-8552-4bc2-9483-29cf042d5560",
        "colab": {
          "base_uri": "https://localhost:8080/"
        }
      },
      "source": [
        "TF"
      ],
      "execution_count": 49,
      "outputs": [
        {
          "output_type": "execute_result",
          "data": {
            "text/plain": [
              "<10000x3573 sparse matrix of type '<class 'numpy.int64'>'\n",
              "\twith 38866 stored elements in Compressed Sparse Row format>"
            ]
          },
          "metadata": {
            "tags": []
          },
          "execution_count": 49
        }
      ]
    },
    {
      "cell_type": "markdown",
      "metadata": {
        "id": "3VpQm-enn8sN"
      },
      "source": [
        "\r\n",
        "        max_iter=5, \r\n",
        "        learning_method='online', \r\n",
        "        learning_offset=50.,\r\n",
        "        random_state=0"
      ]
    },
    {
      "cell_type": "code",
      "metadata": {
        "id": "fSXVAxzMJXYZ",
        "outputId": "7d3e8c5d-0a39-4332-eca5-879ce5b64d78",
        "colab": {
          "base_uri": "https://localhost:8080/"
        }
      },
      "source": [
        "params = {'n_components' : np.arange(10, 700, 50), 'learning_decay': [.5, .7, .9]}\r\n",
        "clf = LatentDirichletAllocation()\r\n",
        "\r\n",
        "print('{}\\n{}\\n{}'.format('='*30, 'lda', '-'*30))\r\n",
        "dict_precision[\"lda\"] = {}\r\n",
        "\r\n",
        "gs = GridSearchCV(clf, params)\r\n",
        "gs.fit(TF)\r\n",
        "\r\n",
        "print(\"Best params:\", gs.best_params_, '\\n')\r\n",
        "dict_precision[\"lda\"]['clf'] = gs"
      ],
      "execution_count": 55,
      "outputs": [
        {
          "output_type": "stream",
          "text": [
            "==============================\n",
            "lda\n",
            "------------------------------\n"
          ],
          "name": "stdout"
        },
        {
          "output_type": "stream",
          "text": [
            "/usr/local/lib/python3.7/dist-packages/sklearn/decomposition/_lda.py:790: RuntimeWarning: overflow encountered in exp\n",
            "  return np.exp(-1.0 * perword_bound)\n",
            "/usr/local/lib/python3.7/dist-packages/sklearn/decomposition/_lda.py:790: RuntimeWarning: overflow encountered in exp\n",
            "  return np.exp(-1.0 * perword_bound)\n",
            "/usr/local/lib/python3.7/dist-packages/sklearn/decomposition/_lda.py:790: RuntimeWarning: overflow encountered in exp\n",
            "  return np.exp(-1.0 * perword_bound)\n",
            "/usr/local/lib/python3.7/dist-packages/sklearn/decomposition/_lda.py:790: RuntimeWarning: overflow encountered in exp\n",
            "  return np.exp(-1.0 * perword_bound)\n",
            "/usr/local/lib/python3.7/dist-packages/sklearn/decomposition/_lda.py:790: RuntimeWarning: overflow encountered in exp\n",
            "  return np.exp(-1.0 * perword_bound)\n",
            "/usr/local/lib/python3.7/dist-packages/sklearn/decomposition/_lda.py:790: RuntimeWarning: overflow encountered in exp\n",
            "  return np.exp(-1.0 * perword_bound)\n",
            "/usr/local/lib/python3.7/dist-packages/sklearn/decomposition/_lda.py:790: RuntimeWarning: overflow encountered in exp\n",
            "  return np.exp(-1.0 * perword_bound)\n",
            "/usr/local/lib/python3.7/dist-packages/sklearn/decomposition/_lda.py:790: RuntimeWarning: overflow encountered in exp\n",
            "  return np.exp(-1.0 * perword_bound)\n",
            "/usr/local/lib/python3.7/dist-packages/sklearn/decomposition/_lda.py:790: RuntimeWarning: overflow encountered in exp\n",
            "  return np.exp(-1.0 * perword_bound)\n",
            "/usr/local/lib/python3.7/dist-packages/sklearn/decomposition/_lda.py:790: RuntimeWarning: overflow encountered in exp\n",
            "  return np.exp(-1.0 * perword_bound)\n",
            "/usr/local/lib/python3.7/dist-packages/sklearn/decomposition/_lda.py:790: RuntimeWarning: overflow encountered in exp\n",
            "  return np.exp(-1.0 * perword_bound)\n",
            "/usr/local/lib/python3.7/dist-packages/sklearn/decomposition/_lda.py:790: RuntimeWarning: overflow encountered in exp\n",
            "  return np.exp(-1.0 * perword_bound)\n",
            "/usr/local/lib/python3.7/dist-packages/sklearn/decomposition/_lda.py:790: RuntimeWarning: overflow encountered in exp\n",
            "  return np.exp(-1.0 * perword_bound)\n",
            "/usr/local/lib/python3.7/dist-packages/sklearn/decomposition/_lda.py:790: RuntimeWarning: overflow encountered in exp\n",
            "  return np.exp(-1.0 * perword_bound)\n",
            "/usr/local/lib/python3.7/dist-packages/sklearn/decomposition/_lda.py:790: RuntimeWarning: overflow encountered in exp\n",
            "  return np.exp(-1.0 * perword_bound)\n",
            "/usr/local/lib/python3.7/dist-packages/sklearn/decomposition/_lda.py:790: RuntimeWarning: overflow encountered in exp\n",
            "  return np.exp(-1.0 * perword_bound)\n",
            "/usr/local/lib/python3.7/dist-packages/sklearn/decomposition/_lda.py:790: RuntimeWarning: overflow encountered in exp\n",
            "  return np.exp(-1.0 * perword_bound)\n",
            "/usr/local/lib/python3.7/dist-packages/sklearn/decomposition/_lda.py:790: RuntimeWarning: overflow encountered in exp\n",
            "  return np.exp(-1.0 * perword_bound)\n",
            "/usr/local/lib/python3.7/dist-packages/sklearn/decomposition/_lda.py:790: RuntimeWarning: overflow encountered in exp\n",
            "  return np.exp(-1.0 * perword_bound)\n",
            "/usr/local/lib/python3.7/dist-packages/sklearn/decomposition/_lda.py:790: RuntimeWarning: overflow encountered in exp\n",
            "  return np.exp(-1.0 * perword_bound)\n",
            "/usr/local/lib/python3.7/dist-packages/sklearn/decomposition/_lda.py:790: RuntimeWarning: overflow encountered in exp\n",
            "  return np.exp(-1.0 * perword_bound)\n",
            "/usr/local/lib/python3.7/dist-packages/sklearn/decomposition/_lda.py:790: RuntimeWarning: overflow encountered in exp\n",
            "  return np.exp(-1.0 * perword_bound)\n",
            "/usr/local/lib/python3.7/dist-packages/sklearn/decomposition/_lda.py:790: RuntimeWarning: overflow encountered in exp\n",
            "  return np.exp(-1.0 * perword_bound)\n",
            "/usr/local/lib/python3.7/dist-packages/sklearn/decomposition/_lda.py:790: RuntimeWarning: overflow encountered in exp\n",
            "  return np.exp(-1.0 * perword_bound)\n",
            "/usr/local/lib/python3.7/dist-packages/sklearn/decomposition/_lda.py:790: RuntimeWarning: overflow encountered in exp\n",
            "  return np.exp(-1.0 * perword_bound)\n",
            "/usr/local/lib/python3.7/dist-packages/sklearn/decomposition/_lda.py:790: RuntimeWarning: overflow encountered in exp\n",
            "  return np.exp(-1.0 * perword_bound)\n",
            "/usr/local/lib/python3.7/dist-packages/sklearn/decomposition/_lda.py:790: RuntimeWarning: overflow encountered in exp\n",
            "  return np.exp(-1.0 * perword_bound)\n",
            "/usr/local/lib/python3.7/dist-packages/sklearn/decomposition/_lda.py:790: RuntimeWarning: overflow encountered in exp\n",
            "  return np.exp(-1.0 * perword_bound)\n",
            "/usr/local/lib/python3.7/dist-packages/sklearn/decomposition/_lda.py:790: RuntimeWarning: overflow encountered in exp\n",
            "  return np.exp(-1.0 * perword_bound)\n",
            "/usr/local/lib/python3.7/dist-packages/sklearn/decomposition/_lda.py:790: RuntimeWarning: overflow encountered in exp\n",
            "  return np.exp(-1.0 * perword_bound)\n",
            "/usr/local/lib/python3.7/dist-packages/sklearn/decomposition/_lda.py:790: RuntimeWarning: overflow encountered in exp\n",
            "  return np.exp(-1.0 * perword_bound)\n",
            "/usr/local/lib/python3.7/dist-packages/sklearn/decomposition/_lda.py:790: RuntimeWarning: overflow encountered in exp\n",
            "  return np.exp(-1.0 * perword_bound)\n"
          ],
          "name": "stderr"
        },
        {
          "output_type": "stream",
          "text": [
            "Best params: {'learning_decay': 0.5, 'n_components': 10} \n",
            "\n"
          ],
          "name": "stdout"
        }
      ]
    },
    {
      "cell_type": "code",
      "metadata": {
        "id": "R3JQC4GouXCx",
        "outputId": "74339fa1-26f7-4840-a873-80109a1279c7",
        "colab": {
          "base_uri": "https://localhost:8080/",
          "height": 198
        }
      },
      "source": [
        "def display_topics(model, feature_names, no_top_words):\r\n",
        "    for topic_idx, topic in enumerate(model.components_):\r\n",
        "        print(\"Topic {}:\".format(topic_idx))\r\n",
        "        print(\" \".join([feature_names[i] for i in topic.argsort()[:-no_top_words - 1:-1]]))\r\n",
        "\r\n",
        "no_top_words = 10\r\n",
        "display_topics(lda, cv.get_feature_names(), no_top_words)"
      ],
      "execution_count": 56,
      "outputs": [
        {
          "output_type": "error",
          "ename": "NameError",
          "evalue": "ignored",
          "traceback": [
            "\u001b[0;31m---------------------------------------------------------------------------\u001b[0m",
            "\u001b[0;31mNameError\u001b[0m                                 Traceback (most recent call last)",
            "\u001b[0;32m<ipython-input-56-c86a6ec02d23>\u001b[0m in \u001b[0;36m<module>\u001b[0;34m()\u001b[0m\n\u001b[1;32m      5\u001b[0m \u001b[0;34m\u001b[0m\u001b[0m\n\u001b[1;32m      6\u001b[0m \u001b[0mno_top_words\u001b[0m \u001b[0;34m=\u001b[0m \u001b[0;36m10\u001b[0m\u001b[0;34m\u001b[0m\u001b[0;34m\u001b[0m\u001b[0m\n\u001b[0;32m----> 7\u001b[0;31m \u001b[0mdisplay_topics\u001b[0m\u001b[0;34m(\u001b[0m\u001b[0mlda\u001b[0m\u001b[0;34m,\u001b[0m \u001b[0mcv\u001b[0m\u001b[0;34m.\u001b[0m\u001b[0mget_feature_names\u001b[0m\u001b[0;34m(\u001b[0m\u001b[0;34m)\u001b[0m\u001b[0;34m,\u001b[0m \u001b[0mno_top_words\u001b[0m\u001b[0;34m)\u001b[0m\u001b[0;34m\u001b[0m\u001b[0;34m\u001b[0m\u001b[0m\n\u001b[0m",
            "\u001b[0;31mNameError\u001b[0m: name 'lda' is not defined"
          ]
        }
      ]
    },
    {
      "cell_type": "markdown",
      "metadata": {
        "id": "WprGGD3Dy_cs"
      },
      "source": [
        "# Export"
      ]
    },
    {
      "cell_type": "code",
      "metadata": {
        "id": "iosiCkLVzByU"
      },
      "source": [
        "with open('OC_DS_P6_prod.pkl', 'wb') as file:\r\n",
        "    pickler = pickle.Pickler(file, pickle.HIGHEST_PROTOCOL) \r\n",
        "    pickler.dump(std_scale)\r\n",
        "    pickler.dump(dict_tfidf['vector'])\r\n",
        "    pickler.dump(gs)\r\n",
        "    pickler.dump(lbl)    "
      ],
      "execution_count": null,
      "outputs": []
    },
    {
      "cell_type": "markdown",
      "metadata": {
        "id": "HILE6_yby857"
      },
      "source": [
        "# Test"
      ]
    },
    {
      "cell_type": "code",
      "metadata": {
        "id": "i-7BcpcD08Xw"
      },
      "source": [
        "std_sw = set(nltk.corpus.stopwords.words('english')) \r\n",
        "\r\n",
        "# Extra stopwords = radicaux qui ne me semblent pas discriminants \r\n",
        "extra_sw = ('use', 'get', 'like', 'way', 'creat', 'would', 'want', 'need',\\\r\n",
        "            'know', 'could', 'x', 'xx', 'xyz', 'aa', 'xxx', 'z', 'yyyi', 'wont',\\\r\n",
        "            'aaa', 'aaaaaa', 'aabbc', 'aandb', 'aarrggbb')\r\n",
        "\r\n",
        "\r\n",
        "tokenizer = nltk.RegexpTokenizer(REGEX)\r\n",
        "lemmatizer = WordNetLemmatizer() \r\n",
        "stemmer = PorterStemmer()\r\n",
        "\r\n",
        "with open('OC_DS_P6_prod.pkl', 'rb') as file:\r\n",
        "    unpickler = pickle.Unpickler(file)\r\n",
        "    sclr = unpickler.load()\r\n",
        "    tfidf = unpickler.load()\r\n",
        "    mod = unpickler.load()\r\n",
        "    lbl = unpickler.load()"
      ],
      "execution_count": null,
      "outputs": []
    },
    {
      "cell_type": "code",
      "metadata": {
        "id": "_iA6-sQ9z3z3"
      },
      "source": [
        "tag_question('track 3rd parti code git', 'seem grok differ solut found studi track exter')"
      ],
      "execution_count": null,
      "outputs": []
    }
  ]
}